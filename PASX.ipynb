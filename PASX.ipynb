{
 "cells": [
  {
   "cell_type": "markdown",
   "metadata": {},
   "source": [
    "#  MITRAL STENOSIS CLASSIFICATION USING DEEP LEARNING"
   ]
  },
  {
   "cell_type": "markdown",
   "metadata": {
    "colab_type": "text",
    "id": "4gtmwJoTjjSW"
   },
   "source": [
    "## Importing Neccessary Libraries"
   ]
  },
  {
   "cell_type": "code",
   "execution_count": null,
   "metadata": {
    "colab": {
     "base_uri": "https://localhost:8080/",
     "height": 79
    },
    "colab_type": "code",
    "id": "xydcvlq0jjSX",
    "outputId": "e10b956d-84d7-4c7f-a652-a57ac8951c4a"
   },
   "outputs": [],
   "source": [
    "import matplotlib.pyplot as plt \n",
    "import numpy as np\n",
    "import os\n",
    "import h5py\n",
    "import cv2\n",
    "import glob\n",
    "from sklearn.model_selection import train_test_split\n",
    "from keras.preprocessing.image import img_to_array\n",
    "from keras.preprocessing.image import load_img\n",
    "%matplotlib inline"
   ]
  },
  {
   "cell_type": "code",
   "execution_count": null,
   "metadata": {
    "colab": {
     "base_uri": "https://localhost:8080/",
     "height": 104
    },
    "colab_type": "code",
    "id": "klvmymwxjjSZ",
    "outputId": "3c88bd1d-fa55-432c-d15b-1e09d6565c43"
   },
   "outputs": [],
   "source": [
    "import os\n",
    "normal = os.listdir('./test/normal/')\n",
    "print(normal[:10]) #the output we get are the .jpg files\n",
    "\n",
    "stenosis = os.listdir('./test/stenosis/')\n",
    "print('\\n')\n",
    "print(stenosis[:10])"
   ]
  },
  {
   "cell_type": "markdown",
   "metadata": {
    "colab_type": "text",
    "id": "tbeBHuP4jjSb"
   },
   "source": [
    "## Visualization of Infected and Uninfected Cells"
   ]
  },
  {
   "cell_type": "markdown",
   "metadata": {
    "colab_type": "text",
    "id": "QmDIKHt0jjSb"
   },
   "source": [
    "1. Infected Data"
   ]
  },
  {
   "cell_type": "code",
   "execution_count": null,
   "metadata": {
    "colab": {
     "base_uri": "https://localhost:8080/",
     "height": 129
    },
    "colab_type": "code",
    "id": "lxdYHLHdjjSc",
    "outputId": "aee5ba59-142f-4e4b-a5ab-552aa35e49b9"
   },
   "outputs": [],
   "source": [
    "\n",
    "import cv2\n",
    "plt.figure(figsize = (12,12))\n",
    "for i in range(4):\n",
    "    plt.subplot(1, 4, i+1)\n",
    "    img = cv2.imread('./test/normal' + \"/\" + normal[i])\n",
    "    plt.imshow(img)\n",
    "    plt.title('stenosis')\n",
    "    plt.tight_layout()\n",
    "plt.show()"
   ]
  },
  {
   "cell_type": "markdown",
   "metadata": {
    "colab_type": "text",
    "id": "n1sPK8QsjjSd"
   },
   "source": [
    "2. Unifected Data"
   ]
  },
  {
   "cell_type": "code",
   "execution_count": null,
   "metadata": {
    "colab": {
     "base_uri": "https://localhost:8080/",
     "height": 129
    },
    "colab_type": "code",
    "id": "jK9umrzfjjSe",
    "outputId": "a825f273-eb54-45fa-d8dd-9ec2eea8ef3f"
   },
   "outputs": [],
   "source": [
    "plt.figure(figsize = (12,12))\n",
    "for i in range(4):\n",
    "    plt.subplot(1, 4, i+1)\n",
    "    img = cv2.imread('./test/stenosis' + \"/\" + stenosis[i])\n",
    "    plt.imshow(img)\n",
    "    plt.title('normal')\n",
    "    plt.tight_layout()\n",
    "plt.show()"
   ]
  },
  {
   "cell_type": "code",
   "execution_count": null,
   "metadata": {
    "colab": {},
    "colab_type": "code",
    "id": "3BC7IWcZYif6"
   },
   "outputs": [],
   "source": [
    "def loading_data(data_path, target_size=(512,512)):\n",
    "    img_arr_img = []\n",
    "    filelist_img = glob.glob(data_path+\"*.jpg\")\n",
    "    image_paths = sorted(filelist_img)\n",
    "    \n",
    "    for image_path in image_paths:\n",
    "        try:\n",
    "            image = cv2.imread(image_path)\n",
    "            image = cv2.resize(image, dsize=target_size)\n",
    "            cv2.normalize(image, image, 0, 255, cv2.NORM_MINMAX)\n",
    "            img_arr_img.append(image)\n",
    "        except (RuntimeError, TypeError,NameError) as e:\n",
    "            print(e)\n",
    "            pass\n",
    "    return np.asarray(img_arr_img), image_paths "
   ]
  },
  {
   "cell_type": "code",
   "execution_count": null,
   "metadata": {
    "colab": {},
    "colab_type": "code",
    "id": "huEBKC61eEyx"
   },
   "outputs": [],
   "source": [
    "training_path_stenosis = './test/stenosis/'\n",
    "training_path_normal = './test/normal/'\n",
    "test_path_stenosis = './test2/stenosis/'\n",
    "test_path_normal = './test2/normal/'\n",
    "X_stenosis, filenames_stenosis = loading_data(training_path_stenosis)\n",
    "X_normal, filenames_normal = loading_data(training_path_normal)\n",
    "X_stenosis1, filenames_stenosis1 = loading_data(test_path_stenosis)\n",
    "X_normal1, filenames_normal1 = loading_data(test_path_normal)\n",
    "print(X_stenosis.shape) \n",
    "print(X_normal.shape)\n",
    "print(X_stenosis1.shape)\n",
    "print(X_normal1.shape)\n"
   ]
  },
  {
   "cell_type": "code",
   "execution_count": null,
   "metadata": {
    "colab": {},
    "colab_type": "code",
    "id": "KwEnsbYReFi5"
   },
   "outputs": [],
   "source": [
    "X = np.vstack((X_normal, X_stenosis))\n",
    "y = np.vstack((X_normal1, X_stenosis1))\n",
    "labels = [0]*X_normal.shape[0] + [1]*X_stenosis.shape[0]\n",
    "labels1 = [0]*X_normal1.shape[0] + [1]*X_stenosis1.shape[0]"
   ]
  },
  {
   "cell_type": "code",
   "execution_count": null,
   "metadata": {
    "colab": {},
    "colab_type": "code",
    "id": "vweNNTfq5mOX"
   },
   "outputs": [],
   "source": [
    "import numpy as np\n",
    "%matplotlib inline\n",
    "import matplotlib.pyplot as plt\n",
    "from PIL import Image"
   ]
  },
  {
   "cell_type": "code",
   "execution_count": null,
   "metadata": {},
   "outputs": [],
   "source": [
    "from keras_applications.imagenet_utils import _obtain_input_shape\n",
    "from keras import backend as K\n",
    "from keras.layers import Input, Convolution2D, \\\n",
    "    GlobalAveragePooling2D, Dense, BatchNormalization, Activation,Dropout\n",
    "from keras.models import Model\n",
    "import keras\n",
    "from keras.engine.topology import get_source_inputs\n",
    "from depthwise_conv2d import DepthwiseConvolution2D #debug\n",
    "#from depthwise_conv2d import DepthwiseConvolution2D #release\n",
    "from keras.utils import plot_model\n",
    "from keras import regularizers\n",
    "'''Google MobileNet model for Keras.\n",
    "# Reference:\n",
    "- [MobileNets: Efficient Convolutional Neural Networks for Mobile Vision Applications](https://arxiv.org/pdf/1704.04861.pdf)\n",
    "'''\n",
    "def auc_roc(y_true, y_pred):\n",
    "    # any tensorflow metric\n",
    "    value, update_op = tf.contrib.metrics.streaming_auc(y_pred, y_true)\n",
    "\n",
    "    # find all variables created for this metric\n",
    "    metric_vars = [i for i in tf.local_variables() if 'auc_roc' in i.name.split('/')[1]]\n",
    "\n",
    "    # Add metric variables to GLOBAL_VARIABLES collection.\n",
    "    # They will be initialized for new session.\n",
    "    for v in metric_vars:\n",
    "        tf.add_to_collection(tf.GraphKeys.GLOBAL_VARIABLES, v)\n",
    "\n",
    "    # force to update metric values\n",
    "    with tf.control_dependencies([update_op]):\n",
    "        value = tf.identity(value)\n",
    "        return value\n",
    "\n",
    "def MobileNet(input_tensor=None, input_shape=(256,256,3), alpha=1, shallow=True, classes=1):\n",
    "    \"\"\"Instantiates the MobileNet.Network has two hyper-parameters\n",
    "        which are the width of network (controlled by alpha)\n",
    "        and input size.\n",
    "        \n",
    "        # Arguments\n",
    "            input_tensor: optional Keras tensor (i.e. output of `layers.Input()`)\n",
    "                to use as image input for the model.\n",
    "            input_shape: optional shape tuple, only to be specified\n",
    "                if `include_top` is False (otherwise the input shape\n",
    "                has to be `(224, 224, 3)` (with `channels_last` data format)\n",
    "                or `(3, 224, 244)` (with `channels_first` data format).\n",
    "                It should have exactly 3 inputs channels,\n",
    "                and width and height should be no smaller than 96.\n",
    "                E.g. `(200, 200, 3)` would be one valid value.\n",
    "            alpha: optional parameter of the network to change the \n",
    "                width of model.\n",
    "            shallow: optional parameter for making network smaller.\n",
    "            classes: optional number of classes to classify images\n",
    "                into.\n",
    "        # Returns\n",
    "            A Keras model instance.\n",
    "\n",
    "        \"\"\"\n",
    "\n",
    "    input_shape = _obtain_input_shape(input_shape,\n",
    "                                      default_size=256,\n",
    "                                      min_size=96,\n",
    "                                      data_format=K.image_data_format(),\n",
    "                                      require_flatten=True)\n",
    "\n",
    "    if input_tensor is None:\n",
    "        img_input = Input(shape=input_shape)\n",
    "    else:\n",
    "        if not K.is_keras_tensor(input_tensor):\n",
    "            img_input = Input(tensor=input_tensor, shape=input_shape)\n",
    "        else:\n",
    "            img_input = input_tensor\n",
    "\n",
    "    x = Convolution2D(int(32 * alpha), (3, 3), strides=(2, 2), padding='same', use_bias=False)(img_input)\n",
    "    x = BatchNormalization()(x)\n",
    "    x = Activation('relu')(x)\n",
    "\n",
    "    x = DepthwiseConvolution2D(int(32 * alpha), (3, 3), strides=(1, 1), padding='same', use_bias=False)(x)\n",
    "    x = BatchNormalization()(x)\n",
    "    x = Activation('relu')(x)\n",
    "    x = Convolution2D(int(64 * alpha), (1, 1), strides=(1, 1), padding='same', use_bias=False,kernel_regularizer=regularizers.l1_l2(l1=1e-5, l2=1e-5))(x)\n",
    "    x = BatchNormalization()(x)\n",
    "    x = Activation('relu')(x)\n",
    "\n",
    "    x = DepthwiseConvolution2D(int(64 * alpha), (3, 3), strides=(2, 2), padding='same', use_bias=False)(x)\n",
    "    x = BatchNormalization()(x)\n",
    "    x = Activation('relu')(x)\n",
    "    x = Convolution2D(int(128 * alpha), (1, 1), strides=(1, 1), padding='same', use_bias=False,kernel_regularizer=regularizers.l1_l2(l1=1e-5, l2=1e-5))(x)\n",
    "    x = BatchNormalization()(x)\n",
    "    x = Activation('relu')(x)\n",
    "\n",
    "    x = DepthwiseConvolution2D(int(128 * alpha), (3, 3), strides=(1, 1), padding='same', use_bias=False)(x)\n",
    "    x = BatchNormalization()(x)\n",
    "    x = Activation('relu')(x)\n",
    "    x = Convolution2D(int(128 * alpha), (1, 1), strides=(1, 1), padding='same', use_bias=False,kernel_regularizer=regularizers.l1_l2(l1=1e-5, l2=1e-5))(x)\n",
    "    x = BatchNormalization()(x)\n",
    "    x = Activation('relu')(x)\n",
    "\n",
    "    x = DepthwiseConvolution2D(int(128 * alpha), (3, 3), strides=(2, 2), padding='same', use_bias=False)(x)\n",
    "    x = BatchNormalization()(x)\n",
    "    x = Activation('relu')(x)\n",
    "    x = Convolution2D(int(256 * alpha), (1, 1), strides=(1, 1), padding='same', use_bias=False,kernel_regularizer=regularizers.l1_l2(l1=1e-5, l2=1e-5))(x)\n",
    "    x = BatchNormalization()(x)\n",
    "    x = Activation('relu')(x)\n",
    "\n",
    "    x = DepthwiseConvolution2D(int(256 * alpha), (3, 3), strides=(1, 1), padding='same', use_bias=False)(x)\n",
    "    x = BatchNormalization()(x)\n",
    "    x = Activation('relu')(x)\n",
    "    x = Convolution2D(int(256 * alpha), (1, 1), strides=(1, 1), padding='same', use_bias=False,kernel_regularizer=regularizers.l1_l2(l1=1e-5, l2=1e-5))(x)\n",
    "    x = BatchNormalization()(x)\n",
    "    x = Activation('relu')(x)\n",
    "\n",
    "\n",
    "    x = GlobalAveragePooling2D()(x)\n",
    "    x = Dropout(0.5)(x)\n",
    "    out = Dense(classes, activation='sigmoid')(x)\n",
    "\n",
    "    if input_tensor is not None:\n",
    "        inputs = get_source_inputs(input_tensor)\n",
    "    else:\n",
    "        inputs = img_input\n",
    "\n",
    "    model = Model(inputs, out, name='mobilenet')\n",
    "\n",
    "    return model\n",
    "model=MobileNet()\n",
    "model.summary()\n",
    "from keras.callbacks import ModelCheckpoint\n",
    "\n",
    "\n",
    "optimizer = keras.optimizers.Adam(0.0001)\n",
    "model.compile(loss='binary_crossentropy',\n",
    "              optimizer=optimizer,\n",
    "              metrics=['accuracy'])\n",
    "\n",
    "\n",
    "\n",
    "hist = model.fit(X,labels,validation_data=(y,labels1),batch_size=2,epochs=15)\n",
    "\n",
    "\n",
    "\n",
    "def save_history(hist, filepath):\n",
    "    with open('./hhi', 'w') as f:\n",
    "        json.dump(hist.history, f)\n",
    "\n",
    "def plot_loss(history_filepath):\n",
    "    with open(history_filepath) as json_data:\n",
    "        history = json.load(json_data)\n",
    "        #print(history)\n",
    "    print(history.keys())\n",
    "    plt.plot(history['loss'])\n",
    "    plt.plot(history['acc'])\n",
    "   #plt.plot(history['auc_roc'])\n",
    "    plt.title('training results')\n",
    "    plt.ylabel('loss')\n",
    "    plt.xlabel('epoch')\n",
    "    plt.legend(['loss', 'accuracy'], loc='upper left')\n",
    "    plt.show()\n",
    "save_history(hist,'./')\n",
    "plot_loss('./hhi')\n",
    "print(model.evaluate(y,labels1,batch_size=1))\n",
    "\n",
    "from sklearn.metrics import roc_curve\n",
    "from sklearn.metrics import roc_auc_score,precision_recall_curve\n",
    "from matplotlib import pyplot\n",
    "from sklearn.metrics import roc_curve, auc # roc curve tools\n",
    "#from sklearn.metrics import precision_recall_curve\n",
    "# roc curve and auc\n",
    "from sklearn.metrics import roc_curve\n",
    "from sklearn.metrics import roc_auc_score\n",
    "from matplotlib import pyplot\n",
    "\n",
    "predict = model.predict(y, batch_size=1)\n",
    "#print(predict)\n",
    "# calculate AUC\n",
    "auc = roc_auc_score(labels1, predict)\n",
    "print('AUC: %.5f' % auc)\n",
    "# calculate roc curve\n",
    "fpr, tpr, thresholds = roc_curve(labels1, predict)\n",
    "# plot no skill\n",
    "pyplot.plot([0, 1], [0, 1], linestyle='--')\n",
    "# plot the roc curve for the model\n",
    "pyplot.plot(fpr, tpr, marker='.')\n",
    "# show the plot\n",
    "pyplot.show()\n",
    "print(\"<<<<<<>>>>>>>>>>>>>>>>>>>>>>>>>>>>>>>>>>>>>>>>>>>>>>>>>>>>>>>>>>>>>>>>>>>>>>>>>>>>.\")"
   ]
  },
  {
   "cell_type": "code",
   "execution_count": null,
   "metadata": {
    "colab": {
     "base_uri": "https://localhost:8080/",
     "height": 440
    },
    "colab_type": "code",
    "id": "Zh5nUFZA5s-r",
    "outputId": "0329b6f0-2544-45d5-fb6f-a10253c7d210"
   },
   "outputs": [],
   "source": [
    "print(model.evaluate(y, labels1,batch_size=1))"
   ]
  },
  {
   "cell_type": "code",
   "execution_count": null,
   "metadata": {},
   "outputs": [],
   "source": [
    "from sklearn.metrics import average_precision_score\n",
    "average_precision = average_precision_score(labels1, predictions)\n",
    "print(average_precision)\n",
    "precision, recall, _ = precision_recall_curve(labels1, predict)\n",
    "\n",
    "plt.step(recall, precision, color='b', alpha=0.2,\n",
    "         where='post')\n",
    "\n",
    "plt.fill_between(recall, precision, step='post', alpha=0.2,\n",
    "                 color='b')\n",
    "\n",
    "plt.xlabel('Recall')\n",
    "plt.ylabel('Precision')\n",
    "plt.ylim([0.0, 1.05])\n",
    "plt.xlim([0.0, 1.0])\n",
    "plt.title('2-class Precision-Recall curve: AP={0:0.2f}'.format(\n",
    "          average_precision))\n",
    "\n",
    "\n",
    "plt.plot(recall, precision,'ro-',markevery=100) \n",
    "# naming the x axis \n",
    "plt.xlabel('x - axis') \n",
    "# naming the y axis \n",
    "plt.ylabel('y - axis') \n",
    "  \n",
    "# giving a title to my graph \n",
    "plt.title('PR curveof mitral valve') \n",
    "  \n",
    "# function to show the plot \n",
    "plt.show()\n",
    "plt.savefig('./pr.png')\n",
    "model.save('latest.h5')"
   ]
  },
  {
   "cell_type": "code",
   "execution_count": null,
   "metadata": {
    "colab": {
     "base_uri": "https://localhost:8080/",
     "height": 50
    },
    "colab_type": "code",
    "id": "zuJlA5rX5uKj",
    "outputId": "8342ae8e-ce9d-40b1-8d61-8a644a42c52c"
   },
   "outputs": [],
   "source": [
    "print(model.evaluate(y, labels1,batch_size=1))\n",
    "#model.save_weights('./MVAbnor.h5')"
   ]
  },
  {
   "cell_type": "code",
   "execution_count": null,
   "metadata": {},
   "outputs": [],
   "source": [
    "model.save('mva.h5')"
   ]
  },
  {
   "cell_type": "markdown",
   "metadata": {},
   "source": [
    "##### "
   ]
  },
  {
   "cell_type": "code",
   "execution_count": null,
   "metadata": {},
   "outputs": [],
   "source": [
    "predictions = model.predict(y,batch_size=1)\n",
    "from sklearn.metrics import precision_recall_curve\n",
    "from sklearn.metrics import plot_precision_recall_curve\n",
    "import matplotlib.pyplot as plt\n",
    "\n",
    "from sklearn.metrics import average_precision_score\n",
    "average_precision = average_precision_score(labels1, predictions)\n",
    "print(average_precision)\n"
   ]
  },
  {
   "cell_type": "code",
   "execution_count": null,
   "metadata": {},
   "outputs": [],
   "source": [
    "from sklearn.metrics import precision_recall_curve\n",
    "from sklearn.metrics import plot_precision_recall_curve\n",
    "import matplotlib.pyplot as plt\n",
    "from sklearn.metrics import precision_recall_curve\n",
    "import matplotlib.pyplot as plt\n",
    "\n",
    "precision, recall, _ = precision_recall_curve(labels1, predictions)\n",
    "\n",
    "plt.step(recall, precision, color='b', alpha=0.2,\n",
    "         where='post')\n",
    "\n",
    "plt.fill_between(recall, precision, step='post', alpha=0.2,\n",
    "                 color='b')\n",
    "\n",
    "plt.xlabel('Recall')\n",
    "plt.ylabel('Precision')\n",
    "plt.ylim([0.0, 1.05])\n",
    "plt.xlim([0.0, 1.0])\n",
    "plt.title('1-class Precision-Recall curve: AP={0:0.2f}'.format(\n",
    "          average_precision))\n",
    "\n",
    "\n",
    "plt.plot(recall, precision,'ro-',markevery=100) \n",
    "# naming the x axis \n",
    "plt.xlabel('x - axis') \n",
    "# naming the y axis \n",
    "plt.ylabel('y - axis') \n",
    "  \n",
    "# giving a title to my graph \n",
    "plt.title('PR curveof mitral valve') \n",
    "  \n",
    "# function to show the plot \n",
    "plt.show()\n",
    "plt.savefig('pr.png')\n"
   ]
  },
  {
   "cell_type": "code",
   "execution_count": null,
   "metadata": {},
   "outputs": [],
   "source": [
    "model.save_weights('./mvaxxx.h5')\n",
    "model.save('mva.h5')"
   ]
  },
  {
   "cell_type": "code",
   "execution_count": null,
   "metadata": {},
   "outputs": [],
   "source": [
    "from sklearn.metrics import roc_curve\n",
    "from sklearn.metrics import roc_auc_score,precision_recall_curve\n",
    "from matplotlib import pyplot\n",
    "from sklearn.metrics import roc_curve, auc # roc curve tools\n",
    "#from sklearn.metrics import precision_recall_curve\n",
    "# roc curve and auc\n",
    "from sklearn.metrics import roc_curve\n",
    "from sklearn.metrics import roc_auc_score\n",
    "from matplotlib import pyplot\n",
    "\n",
    "predict = model.predict(y, batch_size=1)\n",
    "#print(predict)\n",
    "# calculate AUC\n",
    "auc = roc_auc_score(labels1, predict)\n",
    "print('AUC: %.5f' % auc)\n",
    "# calculate roc curve\n",
    "fpr, tpr, thresholds = roc_curve(labels1, predict)\n",
    "# plot no skill\n",
    "pyplot.plot([0, 1], [0, 1], linestyle='--')\n",
    "# plot the roc curve for the model\n",
    "pyplot.plot(fpr, tpr, marker='.')\n",
    "# show the plot\n",
    "pyplot.show()\n",
    "print(\"<<<<<<>>>>>>>>>>>>>>>>>>>>>>>>>>>>>>>>>>>>>>>>>>>>>>>>>>>>>>>>>>>>>>>>>>>>>>>>>>>>.\")\n"
   ]
  },
  {
   "cell_type": "code",
   "execution_count": null,
   "metadata": {
    "colab": {},
    "colab_type": "code",
    "id": "YRJGR0Q8nIVU"
   },
   "outputs": [],
   "source": [
    "predictions = model.predict(y,batch_size=1)\n",
    "\n",
    "fig=plt.figure(figsize=(28, 28))\n",
    "columns = 2\n",
    "rows = 2\n",
    "random_number = np.random.randint(0,y.shape[0])\n",
    "for i in range(1, columns*rows +1):\n",
    "    fig.add_subplot(rows, columns, i)\n",
    "    plt.imshow(y[i])\n",
    "    gt = ['normal', 'abnormal']\n",
    "    plt.title('abnormal likelihood {:.1%}\\n Ground Truth:{} '.format(float(predictions[i]), gt[labels1[i]]))\n",
    "    \n",
    "plt.show()"
   ]
  },
  {
   "cell_type": "code",
   "execution_count": null,
   "metadata": {
    "colab": {},
    "colab_type": "code",
    "id": "sCTnBPS2g3ps"
   },
   "outputs": [],
   "source": [
    "from sklearn.metrics import classification_report, confusion_matrix\n",
    "\n",
    "threshold = 0.65\n",
    "predictions_final = [int(pred>threshold) for pred in predictions]\n",
    "\n",
    "print(classification_report(labels1, predictions_final))"
   ]
  },
  {
   "cell_type": "code",
   "execution_count": null,
   "metadata": {
    "colab": {},
    "colab_type": "code",
    "id": "oyPoXBIVg7Eb"
   },
   "outputs": [],
   "source": [
    "def draw_confusion_matrix(true,preds):\n",
    "    conf_matx = confusion_matrix(true, preds)\n",
    "    sns.heatmap(conf_matx, annot=True,annot_kws={\"size\": 10},fmt='g', cbar=True, cmap=\"viridis\")\n",
    "    plt.show()\n",
    "    print(conf_matx)\n",
    "print(draw_confusion_matrix(labels1, predictions_final))"
   ]
  },
  {
   "cell_type": "code",
   "execution_count": null,
   "metadata": {
    "colab": {},
    "colab_type": "code",
    "id": "7q8J_ICvAUB7"
   },
   "outputs": [],
   "source": [
    "import numpy as np\n",
    "\n",
    "\n",
    "def plot_confusion_matrix(cm,\n",
    "                          target_names=['normal','abnormal'],\n",
    "                          title='Confusion matrix',\n",
    "                          cmap=None,\n",
    "                          normalize=True):\n",
    "    \"\"\"\n",
    "    given a sklearn confusion matrix (cm), make a nice plot\n",
    "\n",
    "    Arguments\n",
    "    ---------\n",
    "    cm:           confusion matrix from sklearn.metrics.confusion_matrix\n",
    "\n",
    "    target_names: given classification classes such as [0, 1, 2]\n",
    "                  the class names, for example: ['high', 'medium', 'low']\n",
    "\n",
    "    title:        the text to display at the top of the matrix\n",
    "\n",
    "    cmap:         the gradient of the values displayed from matplotlib.pyplot.cm\n",
    "                  see http://matplotlib.org/examples/color/colormaps_reference.html\n",
    "                  plt.get_cmap('jet') or plt.cm.Blues\n",
    "\n",
    "    normalize:    If False, plot the raw numbers\n",
    "                  If True, plot the proportions\n",
    "\n",
    "    Usage\n",
    "    -----\n",
    "    plot_confusion_matrix(cm           = cm,                  # confusion matrix created by\n",
    "                                                              # sklearn.metrics.confusion_matrix\n",
    "                          normalize    = True,                # show proportions\n",
    "                          target_names = y_labels_vals,       # list of names of the classes\n",
    "                          title        = best_estimator_name) # title of graph\n",
    "\n",
    "    Citiation\n",
    "    ---------\n",
    "    http://scikit-learn.org/stable/auto_examples/model_selection/plot_confusion_matrix.html\n",
    "\n",
    "    \"\"\"\n",
    "    import matplotlib.pyplot as plt\n",
    "    import numpy as np\n",
    "    import itertools\n",
    "\n",
    "    accuracy = np.trace(cm) / np.sum(cm).astype('float')\n",
    "    misclass = 1 - accuracy\n",
    "\n",
    "    if cmap is None:\n",
    "        cmap = plt.get_cmap('Blues')\n",
    "\n",
    "    plt.figure(figsize=(8, 6))\n",
    "    plt.imshow(cm, interpolation='nearest', cmap=cmap)\n",
    "    plt.title(title)\n",
    "    plt.colorbar()\n",
    "\n",
    "    if target_names is not None:\n",
    "        tick_marks = np.arange(len(target_names))\n",
    "        plt.xticks(tick_marks, target_names, rotation=45)\n",
    "        plt.yticks(tick_marks, target_names)\n",
    "\n",
    "    if normalize:\n",
    "        cm = cm.astype('float') / cm.sum(axis=1)[:, np.newaxis]\n",
    "\n",
    "\n",
    "    thresh = cm.max() / 1.5 if normalize else cm.max() / 2\n",
    "    for i, j in itertools.product(range(cm.shape[0]), range(cm.shape[1])):\n",
    "        if normalize:\n",
    "            plt.text(j, i, \"{:0.4f}\".format(cm[i, j]),\n",
    "                     horizontalalignment=\"center\",\n",
    "                     color=\"white\" if cm[i, j] > thresh else \"black\")\n",
    "        else:\n",
    "            plt.text(j, i, \"{:,}\".format(cm[i, j]),\n",
    "                     horizontalalignment=\"center\",\n",
    "                     color=\"white\" if cm[i, j] > thresh else \"black\")\n",
    "\n",
    "\n",
    "    plt.tight_layout()\n",
    "    plt.ylabel('True label')\n",
    "    plt.xlabel('Predicted label\\naccuracy={:0.4f}; misclass={:0.4f}'.format(accuracy, misclass))\n",
    "    plt.show()\n",
    "\n",
    "cm = confusion_matrix(labels1, predictions_final)\n",
    "print(cm)\n",
    "plot_confusion_matrix(cm)"
   ]
  },
  {
   "cell_type": "code",
   "execution_count": null,
   "metadata": {
    "colab": {},
    "colab_type": "code",
    "id": "2-KKPLr_ZKzl"
   },
   "outputs": [],
   "source": [
    "print(model.evaluate(y, labels1))\n",
    "model.save_weights('cnnmva.h5') #model weights saved "
   ]
  },
  {
   "cell_type": "code",
   "execution_count": null,
   "metadata": {},
   "outputs": [],
   "source": []
  },
  {
   "cell_type": "code",
   "execution_count": null,
   "metadata": {},
   "outputs": [],
   "source": []
  }
 ],
 "metadata": {
  "accelerator": "GPU",
  "colab": {
   "collapsed_sections": [],
   "machine_shape": "hm",
   "name": "Malaria Cells Image Classification (1).ipynb",
   "provenance": []
  },
  "kernelspec": {
   "display_name": "Python 3 (ipykernel)",
   "language": "python",
   "name": "python3"
  },
  "language_info": {
   "codemirror_mode": {
    "name": "ipython",
    "version": 3
   },
   "file_extension": ".py",
   "mimetype": "text/x-python",
   "name": "python",
   "nbconvert_exporter": "python",
   "pygments_lexer": "ipython3",
   "version": "3.8.0"
  }
 },
 "nbformat": 4,
 "nbformat_minor": 4
}
