{
 "cells": [
  {
   "cell_type": "code",
   "execution_count": 1,
   "id": "512e4842-347a-4b57-892e-9d6deedef127",
   "metadata": {},
   "outputs": [],
   "source": [
    "import torch"
   ]
  },
  {
   "cell_type": "code",
   "execution_count": 2,
   "id": "d4040fd2-f865-44bd-9c80-648fd924f6a9",
   "metadata": {},
   "outputs": [],
   "source": [
    "a=torch.tensor(3.,)"
   ]
  },
  {
   "cell_type": "code",
   "execution_count": 3,
   "id": "4f4b0028-290f-4d6c-917f-b26bb3ca2457",
   "metadata": {},
   "outputs": [
    {
     "data": {
      "text/plain": [
       "tensor(3.)"
      ]
     },
     "execution_count": 3,
     "metadata": {},
     "output_type": "execute_result"
    }
   ],
   "source": [
    "a"
   ]
  },
  {
   "cell_type": "code",
   "execution_count": 4,
   "id": "63a36906-6e14-4bd1-8e86-8ab08d548372",
   "metadata": {},
   "outputs": [],
   "source": [
    "b=torch.tensor(4.,requires_grad=True)"
   ]
  },
  {
   "cell_type": "code",
   "execution_count": 5,
   "id": "d81fb879-05d5-4995-b50a-58342ae2d3fd",
   "metadata": {},
   "outputs": [
    {
     "data": {
      "text/plain": [
       "tensor(4., requires_grad=True)"
      ]
     },
     "execution_count": 5,
     "metadata": {},
     "output_type": "execute_result"
    }
   ],
   "source": [
    "b"
   ]
  },
  {
   "cell_type": "code",
   "execution_count": 6,
   "id": "d4f433e4-1073-4b1c-a5f5-3cd57e6d85b9",
   "metadata": {},
   "outputs": [
    {
     "data": {
      "text/plain": [
       "torch.Size([])"
      ]
     },
     "execution_count": 6,
     "metadata": {},
     "output_type": "execute_result"
    }
   ],
   "source": [
    "b.shape "
   ]
  },
  {
   "cell_type": "code",
   "execution_count": 7,
   "id": "6035b0a5-a5cd-495b-9191-d7eb1db711e4",
   "metadata": {},
   "outputs": [],
   "source": [
    "c=b"
   ]
  },
  {
   "cell_type": "code",
   "execution_count": 8,
   "id": "6bd9ab90-3c53-44c0-9850-bbe76c5756c7",
   "metadata": {},
   "outputs": [],
   "source": [
    "c.backward()"
   ]
  },
  {
   "cell_type": "code",
   "execution_count": 9,
   "id": "5f4ed866-ceb0-4d6b-8850-05b9b3915f5a",
   "metadata": {},
   "outputs": [
    {
     "data": {
      "text/plain": [
       "tensor(-0.7568, grad_fn=<SinBackward0>)"
      ]
     },
     "execution_count": 9,
     "metadata": {},
     "output_type": "execute_result"
    }
   ],
   "source": [
    "torch.sin(b)"
   ]
  },
  {
   "cell_type": "code",
   "execution_count": 10,
   "id": "37a13ae0-ae37-43b2-a9dc-10d51cec42a6",
   "metadata": {},
   "outputs": [
    {
     "data": {
      "text/plain": [
       "(tensor(3.), tensor(4., requires_grad=True), tensor(5., requires_grad=True))"
      ]
     },
     "execution_count": 10,
     "metadata": {},
     "output_type": "execute_result"
    }
   ],
   "source": [
    "x= torch.tensor(3.)\n",
    "w=torch.tensor(4.0,requires_grad=True)\n",
    "b=torch.tensor(5.,requires_grad=True)\n",
    "x,w,b"
   ]
  },
  {
   "cell_type": "code",
   "execution_count": 11,
   "id": "07ca2fb2-d9bb-4085-bb00-8c4e9d87a95d",
   "metadata": {},
   "outputs": [
    {
     "data": {
      "text/plain": [
       "tensor(17., grad_fn=<AddBackward0>)"
      ]
     },
     "execution_count": 11,
     "metadata": {},
     "output_type": "execute_result"
    }
   ],
   "source": [
    "y=w*x+b\n",
    "y"
   ]
  },
  {
   "cell_type": "code",
   "execution_count": 12,
   "id": "a03adc6c-e80c-4dcc-9fc5-4e037aab5f38",
   "metadata": {},
   "outputs": [],
   "source": [
    "y.backward()"
   ]
  },
  {
   "cell_type": "code",
   "execution_count": 13,
   "id": "aa5d5225-d695-4367-8f70-b6b674c6045a",
   "metadata": {},
   "outputs": [
    {
     "name": "stdout",
     "output_type": "stream",
     "text": [
      "dy/dx: None\n",
      "dy/dw: tensor(3.)\n",
      "dy/db: tensor(1.)\n"
     ]
    }
   ],
   "source": [
    "print('dy/dx:',x.grad)\n",
    "print('dy/dw:',w.grad)\n",
    "print('dy/db:',b.grad)\n",
    "\n",
    "\n",
    "\n",
    "\n"
   ]
  },
  {
   "cell_type": "code",
   "execution_count": 14,
   "id": "6667a17e-333a-4d34-b6d4-cc4e501c79cf",
   "metadata": {},
   "outputs": [
    {
     "name": "stderr",
     "output_type": "stream",
     "text": [
      "/usr/local/lib/python3.8/dist-packages/torchvision/io/image.py:13: UserWarning: Failed to load image Python extension: '/usr/local/lib/python3.8/dist-packages/torchvision/image.so: undefined symbol: _ZN5torch3jit17parseSchemaOrNameERKSs'If you don't plan on using image functionality from `torchvision.io`, you can ignore this warning. Otherwise, there might be something wrong with your environment. Did you have `libjpeg` or `libpng` installed before building `torchvision` from source?\n",
      "  warn(\n"
     ]
    }
   ],
   "source": [
    "import torch\n",
    "import torchvision\n",
    "from torchvision.datasets import MNIST"
   ]
  },
  {
   "cell_type": "code",
   "execution_count": 15,
   "id": "b38f083b-1355-40ea-ab11-b76906cb9dd3",
   "metadata": {},
   "outputs": [],
   "source": [
    "dataset = MNIST(root='data/',download=True)"
   ]
  },
  {
   "cell_type": "code",
   "execution_count": 16,
   "id": "983cb855-065c-40b4-a027-61f779e95ebc",
   "metadata": {},
   "outputs": [
    {
     "data": {
      "text/plain": [
       "60000"
      ]
     },
     "execution_count": 16,
     "metadata": {},
     "output_type": "execute_result"
    }
   ],
   "source": [
    "len(dataset)"
   ]
  },
  {
   "cell_type": "code",
   "execution_count": 17,
   "id": "015a4e29-51c1-4106-9372-4ff090b4b5c0",
   "metadata": {},
   "outputs": [
    {
     "data": {
      "text/plain": [
       "Dataset MNIST\n",
       "    Number of datapoints: 60000\n",
       "    Root location: data/\n",
       "    Split: Train"
      ]
     },
     "execution_count": 17,
     "metadata": {},
     "output_type": "execute_result"
    }
   ],
   "source": [
    "dataset"
   ]
  },
  {
   "cell_type": "code",
   "execution_count": 18,
   "id": "9e24059a-f7fe-40be-be99-e712b0788597",
   "metadata": {},
   "outputs": [
    {
     "data": {
      "text/plain": [
       "10000"
      ]
     },
     "execution_count": 18,
     "metadata": {},
     "output_type": "execute_result"
    }
   ],
   "source": [
    "test_dataset=MNIST(root = 'data/',train=False)\n",
    "len(test_dataset)"
   ]
  },
  {
   "cell_type": "code",
   "execution_count": 19,
   "id": "7cb2aeeb-f13d-43d6-84f1-6d81eb15656a",
   "metadata": {},
   "outputs": [
    {
     "data": {
      "text/plain": [
       "(<PIL.Image.Image image mode=L size=28x28>, 5)"
      ]
     },
     "execution_count": 19,
     "metadata": {},
     "output_type": "execute_result"
    }
   ],
   "source": [
    "dataset[0]"
   ]
  },
  {
   "cell_type": "code",
   "execution_count": 20,
   "id": "28b7c1ad-b430-419b-ab32-403aaafd6a51",
   "metadata": {},
   "outputs": [],
   "source": [
    "import matplotlib.pyplot as plt\n",
    "%matplotlib inline"
   ]
  },
  {
   "cell_type": "code",
   "execution_count": 21,
   "id": "b610be35-f505-4fbf-8453-50780f77bb32",
   "metadata": {},
   "outputs": [
    {
     "name": "stdout",
     "output_type": "stream",
     "text": [
      "labels: 5\n"
     ]
    },
    {
     "data": {
      "image/png": "[encoded data removed]",
      "text/plain": [
       "<Figure size 640x480 with 1 Axes>"
      ]
     },
     "metadata": {},
     "output_type": "display_data"
    }
   ],
   "source": [
    "image,label=dataset[0]\n",
    "plt.imshow(image,cmap='gray')\n",
    "print('labels:',label)"
   ]
  },
  {
   "cell_type": "code",
   "execution_count": 22,
   "id": "b6a8c35d-6efa-419e-a4f1-0a9c44b88933",
   "metadata": {},
   "outputs": [
    {
     "name": "stdout",
     "output_type": "stream",
     "text": [
      "labels: 3\n"
     ]
    },
    {
     "data": {
      "image/png": "[encoded data removed]",
      "text/plain": [
       "<Figure size 640x480 with 1 Axes>"
      ]
     },
     "metadata": {},
     "output_type": "display_data"
    }
   ],
   "source": [
    "image,label=dataset[10]\n",
    "plt.imshow(image,cmap='gray')\n",
    "print('labels:',label)"
   ]
  },
  {
   "cell_type": "code",
   "execution_count": 23,
   "id": "81ceb5ab-a791-410d-bf92-54b61501739c",
   "metadata": {},
   "outputs": [],
   "source": [
    "import torchvision.transforms as  transforms"
   ]
  },
  {
   "cell_type": "code",
   "execution_count": 24,
   "id": "0016f10c-a536-4fba-924d-1c5f4fa494fd",
   "metadata": {},
   "outputs": [],
   "source": [
    "dataset=MNIST(root='data/',train=True,\n",
    "              transform=transforms.ToTensor())"
   ]
  },
  {
   "cell_type": "code",
   "execution_count": 25,
   "id": "2410f2d3-4c96-459e-8bff-e4a8f43c700a",
   "metadata": {},
   "outputs": [],
   "source": [
    "image_tensor,label=dataset[0]"
   ]
  },
  {
   "cell_type": "code",
   "execution_count": 26,
   "id": "8ed8f218-a639-4b5f-9e4d-d1e8cbb220ff",
   "metadata": {},
   "outputs": [
    {
     "name": "stdout",
     "output_type": "stream",
     "text": [
      "torch.Size([1, 28, 28]) 5\n"
     ]
    }
   ],
   "source": [
    "print(image_tensor.shape,label)"
   ]
  },
  {
   "cell_type": "code",
   "execution_count": 27,
   "id": "9ef3037b-06e5-4353-8b50-938cc92bce1c",
   "metadata": {},
   "outputs": [
    {
     "name": "stdout",
     "output_type": "stream",
     "text": [
      "tensor([[0.0039, 0.6039, 0.9922, 0.3529, 0.0000],\n",
      "        [0.0000, 0.5451, 0.9922, 0.7451, 0.0078],\n",
      "        [0.0000, 0.0431, 0.7451, 0.9922, 0.2745],\n",
      "        [0.0000, 0.0000, 0.1373, 0.9451, 0.8824],\n",
      "        [0.0000, 0.0000, 0.0000, 0.3176, 0.9412]])\n",
      "tensor(1.) tensor(0.)\n"
     ]
    }
   ],
   "source": [
    "print(image_tensor[0,10:15,10:15])\n",
    "print(torch.max(image_tensor),torch.min(image_tensor))"
   ]
  },
  {
   "cell_type": "code",
   "execution_count": 28,
   "id": "7b74782a-faaa-40e4-b5db-69d3300fa44d",
   "metadata": {},
   "outputs": [
    {
     "data": {
      "image/png": "[encoded data removed]",
      "text/plain": [
       "<Figure size 640x480 with 1 Axes>"
      ]
     },
     "metadata": {},
     "output_type": "display_data"
    }
   ],
   "source": [
    "plt.imshow(image_tensor[0,10:15,10:15],cmap='gray');"
   ]
  },
  {
   "cell_type": "code",
   "execution_count": 29,
   "id": "ff36c507-71f5-4cec-9f12-5d7917fcfde5",
   "metadata": {},
   "outputs": [
    {
     "data": {
      "text/plain": [
       "(50000, 10000)"
      ]
     },
     "execution_count": 29,
     "metadata": {},
     "output_type": "execute_result"
    }
   ],
   "source": [
    "from torch.utils.data import random_split\n",
    "\n",
    "train_ds, val_ds = random_split(dataset, [50000, 10000])\n",
    "len(train_ds), len(val_ds)"
   ]
  },
  {
   "cell_type": "code",
   "execution_count": 30,
   "id": "a59badb0-6760-4741-84b6-70b379ae4434",
   "metadata": {},
   "outputs": [
    {
     "name": "stdout",
     "output_type": "stream",
     "text": [
      "<torch.utils.data.dataloader.DataLoader object at 0xfffeb2c7e3d0>\n"
     ]
    }
   ],
   "source": [
    "from torch.utils.data import DataLoader\n",
    "batch_size=16\n",
    "train_loader=DataLoader(train_ds,batch_size,shuffle=True)\n",
    "val_loader=DataLoader(val_ds)\n",
    "print(val_loader)"
   ]
  },
  {
   "cell_type": "code",
   "execution_count": 31,
   "id": "3c818245-eb8d-41a6-8536-ba822d91fadf",
   "metadata": {},
   "outputs": [],
   "source": [
    "import torch.nn as nn\n",
    "input_size=28*28\n",
    "num_classes=10\n",
    "model=nn.Linear(input_size,num_classes)\n",
    "\n"
   ]
  },
  {
   "cell_type": "code",
   "execution_count": 32,
   "id": "29ddf4a0-4730-4da9-810c-31ee5ddb56c8",
   "metadata": {},
   "outputs": [
    {
     "name": "stdout",
     "output_type": "stream",
     "text": [
      "torch.Size([10, 784])\n"
     ]
    },
    {
     "data": {
      "text/plain": [
       "Parameter containing:\n",
       "tensor([[ 0.0174, -0.0326, -0.0286,  ...,  0.0318,  0.0068, -0.0048],\n",
       "        [-0.0206,  0.0085,  0.0303,  ...,  0.0296,  0.0298,  0.0174],\n",
       "        [ 0.0086,  0.0352,  0.0288,  ..., -0.0152,  0.0319,  0.0078],\n",
       "        ...,\n",
       "        [-0.0140,  0.0055,  0.0319,  ...,  0.0152,  0.0136, -0.0107],\n",
       "        [ 0.0204,  0.0080, -0.0273,  ...,  0.0198, -0.0254,  0.0136],\n",
       "        [-0.0103,  0.0260, -0.0096,  ...,  0.0062,  0.0314, -0.0147]],\n",
       "       requires_grad=True)"
      ]
     },
     "execution_count": 32,
     "metadata": {},
     "output_type": "execute_result"
    }
   ],
   "source": [
    "print(model.weight.shape)\n",
    "model.weight\n"
   ]
  },
  {
   "cell_type": "code",
   "execution_count": 33,
   "id": "22b18cd8-9c8f-4a90-9803-5f3beebcb34d",
   "metadata": {},
   "outputs": [
    {
     "name": "stdout",
     "output_type": "stream",
     "text": [
      "torch.Size([10])\n"
     ]
    },
    {
     "data": {
      "text/plain": [
       "Parameter containing:\n",
       "tensor([-0.0114,  0.0119, -0.0256, -0.0236,  0.0262,  0.0250, -0.0060,  0.0043,\n",
       "         0.0276, -0.0303], requires_grad=True)"
      ]
     },
     "execution_count": 33,
     "metadata": {},
     "output_type": "execute_result"
    }
   ],
   "source": [
    "print(model.bias.shape)\n",
    "model.bias"
   ]
  },
  {
   "cell_type": "code",
   "execution_count": 34,
   "id": "abdee33e-79da-48eb-814a-02c92c5e1c30",
   "metadata": {},
   "outputs": [
    {
     "name": "stdout",
     "output_type": "stream",
     "text": [
      "tensor([5, 1, 0, 3, 9, 7, 7, 0, 7, 6, 0, 3, 2, 2, 1, 7])\n",
      "torch.Size([16, 1, 28, 28])\n"
     ]
    }
   ],
   "source": [
    "for images,label in train_loader:\n",
    "    print(label)\n",
    "    print(images.shape)\n",
    "    #outputs=model(images)\n",
    "    break"
   ]
  },
  {
   "cell_type": "code",
   "execution_count": 35,
   "id": "b80e20a8-d017-4d33-9c1d-6985085789e8",
   "metadata": {},
   "outputs": [],
   "source": [
    "class MnistModel(nn.Module):\n",
    "    def __init__(self):\n",
    "        super().__init__()\n",
    "        self.linear=nn.Linear(input_size,num_classes)\n",
    "\n",
    "\n",
    "    def forward(self,xb):\n",
    "        xb=xb.reshape(-1,784)\n",
    "        out=self.linear(xb)\n",
    "        return out\n",
    "\n",
    "model=MnistModel()"
   ]
  },
  {
   "cell_type": "code",
   "execution_count": 36,
   "id": "60bb0e7b-c48f-4f02-9c8e-1dfadee3d81b",
   "metadata": {},
   "outputs": [
    {
     "name": "stdout",
     "output_type": "stream",
     "text": [
      "torch.Size([10, 784]) torch.Size([10])\n"
     ]
    },
    {
     "data": {
      "text/plain": [
       "[Parameter containing:\n",
       " tensor([[-7.3717e-03, -5.9763e-03, -7.7226e-03,  ...,  3.1167e-02,\n",
       "          -6.8630e-03,  1.0404e-02],\n",
       "         [ 5.4077e-03, -4.5263e-03, -1.9108e-02,  ..., -2.8078e-02,\n",
       "          -1.9167e-02,  1.8599e-02],\n",
       "         [-8.7288e-03, -2.5816e-02, -8.3390e-03,  ..., -1.5796e-02,\n",
       "           1.7695e-03,  2.8693e-02],\n",
       "         ...,\n",
       "         [ 4.1212e-06, -1.6930e-03,  1.9959e-02,  ...,  2.7060e-03,\n",
       "           1.5460e-02, -1.2419e-02],\n",
       "         [-1.5896e-02, -3.2173e-02, -3.5636e-03,  ...,  6.0064e-05,\n",
       "           1.7187e-02,  2.6569e-02],\n",
       "         [ 4.3651e-04, -2.3291e-02,  3.2130e-02,  ...,  9.7182e-03,\n",
       "           2.7269e-03,  2.1253e-02]], requires_grad=True),\n",
       " Parameter containing:\n",
       " tensor([ 0.0078, -0.0093,  0.0031,  0.0077, -0.0009, -0.0297,  0.0232,  0.0130,\n",
       "         -0.0119,  0.0033], requires_grad=True)]"
      ]
     },
     "execution_count": 36,
     "metadata": {},
     "output_type": "execute_result"
    }
   ],
   "source": [
    "print(model.linear.weight.shape,model.linear.bias.shape)\n",
    "list (model.parameters())"
   ]
  },
  {
   "cell_type": "code",
   "execution_count": 37,
   "id": "9bd01269-e300-42f0-91ea-e9d65ad70daa",
   "metadata": {},
   "outputs": [
    {
     "name": "stdout",
     "output_type": "stream",
     "text": [
      "torch.Size([16, 1, 28, 28])\n",
      "output.shape :  torch.Size([16, 10])\n",
      "sample output : \n",
      " tensor([[ 0.0773, -0.1674,  0.1349,  0.2775,  0.0527,  0.0020,  0.0383,  0.1281,\n",
      "         -0.2468,  0.2582],\n",
      "        [ 0.1116,  0.0655, -0.1838,  0.3163, -0.0236, -0.1641,  0.2130, -0.2153,\n",
      "         -0.2328, -0.0113]])\n"
     ]
    }
   ],
   "source": [
    "for images,label in train_loader:\n",
    "    print(images.shape)\n",
    "    outputs=model(images)\n",
    "    break\n",
    "print('output.shape : ',outputs.shape)\n",
    "print('sample output : \\n',outputs[:2].data)\n",
    "\n"
   ]
  },
  {
   "cell_type": "code",
   "execution_count": 38,
   "id": "306efced-f8db-4098-8c02-3989f74746e4",
   "metadata": {},
   "outputs": [],
   "source": [
    "exps=torch.exp(outputs[0])"
   ]
  },
  {
   "cell_type": "code",
   "execution_count": 39,
   "id": "3819a4da-3c55-4894-be39-f2f157e0eaa3",
   "metadata": {},
   "outputs": [
    {
     "data": {
      "text/plain": [
       "tensor([1.0804, 0.8459, 1.1444, 1.3198, 1.0541, 1.0020, 1.0391, 1.1366, 0.7813,\n",
       "        1.2946], grad_fn=<ExpBackward0>)"
      ]
     },
     "execution_count": 39,
     "metadata": {},
     "output_type": "execute_result"
    }
   ],
   "source": [
    "exps"
   ]
  },
  {
   "cell_type": "code",
   "execution_count": 40,
   "id": "bf64cd52-7982-4d81-91da-a111529061cd",
   "metadata": {},
   "outputs": [],
   "source": [
    "probability=exps/torch.sum(exps)"
   ]
  },
  {
   "cell_type": "code",
   "execution_count": 41,
   "id": "abbc5755-e233-4715-b806-6b329c116447",
   "metadata": {},
   "outputs": [
    {
     "data": {
      "text/plain": [
       "tensor([0.1010, 0.0791, 0.1070, 0.1234, 0.0985, 0.0937, 0.0971, 0.1062, 0.0730,\n",
       "        0.1210], grad_fn=<DivBackward0>)"
      ]
     },
     "execution_count": 41,
     "metadata": {},
     "output_type": "execute_result"
    }
   ],
   "source": [
    "probability"
   ]
  },
  {
   "cell_type": "code",
   "execution_count": 42,
   "id": "12ab2c10-fb18-41ad-848e-7161263f84a3",
   "metadata": {},
   "outputs": [],
   "source": [
    "import torch.nn.functional as F\n"
   ]
  },
  {
   "cell_type": "code",
   "execution_count": 43,
   "id": "f945440b-5b0e-4d4d-bce6-6b46f419ecf3",
   "metadata": {},
   "outputs": [
    {
     "name": "stdout",
     "output_type": "stream",
     "text": [
      "sample probabilities : \n",
      " tensor([[0.1010, 0.0791, 0.1070, 0.1234, 0.0985, 0.0937, 0.0971, 0.1062, 0.0730,\n",
      "         0.1210],\n",
      "        [0.1114, 0.1063, 0.0829, 0.1367, 0.0973, 0.0845, 0.1232, 0.0803, 0.0789,\n",
      "         0.0985]])\n",
      "sum= 1.0\n"
     ]
    }
   ],
   "source": [
    "probs=F.softmax(outputs,dim=1)\n",
    "print('sample probabilities : \\n',probs[:2].data)\n",
    "print('sum=',torch.sum(probs[0]).item())"
   ]
  },
  {
   "cell_type": "code",
   "execution_count": 44,
   "id": "301b8e32-1217-4771-8623-f2c1a69dc969",
   "metadata": {},
   "outputs": [
    {
     "name": "stdout",
     "output_type": "stream",
     "text": [
      "tensor([0.1234, 0.1367, 0.1328, 0.1171, 0.1278, 0.1448, 0.1710, 0.1113, 0.1155,\n",
      "        0.1227, 0.1322, 0.1261, 0.1434, 0.1299, 0.1433, 0.1268],\n",
      "       grad_fn=<MaxBackward0>)\n",
      "tensor([3, 3, 4, 0, 3, 3, 3, 3, 3, 3, 3, 3, 3, 7, 3, 3])\n"
     ]
    }
   ],
   "source": [
    "max_probs,preds=torch.max(probs,dim=1)\n",
    "print(max_probs)\n",
    "print(preds)\n",
    "\n"
   ]
  },
  {
   "cell_type": "code",
   "execution_count": 45,
   "id": "add22fe4-8d4f-4ccc-a0ec-7d6133f92741",
   "metadata": {},
   "outputs": [
    {
     "data": {
      "text/plain": [
       "tensor([5, 9, 4, 7, 0, 6, 3, 1, 1, 8, 7, 9, 4, 8, 2, 4])"
      ]
     },
     "execution_count": 45,
     "metadata": {},
     "output_type": "execute_result"
    }
   ],
   "source": [
    "label"
   ]
  },
  {
   "cell_type": "code",
   "execution_count": 46,
   "id": "90b2e763-58ef-49e6-b7dd-337b5f96912e",
   "metadata": {},
   "outputs": [],
   "source": [
    "def accuracy(ouputs,labels):\n",
    "    _,preds=torch.max(outputs,dim=1)\n",
    "    return torch.tensor(torch.sum(preds==labels).item()/len(preds))"
   ]
  },
  {
   "cell_type": "code",
   "execution_count": 47,
   "id": "8ac89c86-b24c-4b88-a1ce-ca3356442527",
   "metadata": {},
   "outputs": [
    {
     "data": {
      "text/plain": [
       "tensor(0.1250)"
      ]
     },
     "execution_count": 47,
     "metadata": {},
     "output_type": "execute_result"
    }
   ],
   "source": [
    "accuracy(outputs,label)"
   ]
  },
  {
   "cell_type": "code",
   "execution_count": 48,
   "id": "d51ad3a1-48dd-46c3-99a4-42d7366b187b",
   "metadata": {},
   "outputs": [],
   "source": [
    "loss_fn = F.cross_entropy"
   ]
  },
  {
   "cell_type": "code",
   "execution_count": 49,
   "id": "c8fadd57-92c8-4ac1-82d7-57d6608c220f",
   "metadata": {},
   "outputs": [
    {
     "name": "stdout",
     "output_type": "stream",
     "text": [
      "tensor(2.2492, grad_fn=<NllLossBackward0>)\n"
     ]
    }
   ],
   "source": [
    "loss=loss_fn(outputs,label)\n",
    "print(loss)"
   ]
  },
  {
   "cell_type": "code",
   "execution_count": 50,
   "id": "9e463b0d-8600-4bc3-a352-d755fb257c36",
   "metadata": {},
   "outputs": [],
   "source": [
    "class MnistModel(nn.Module):\n",
    "    def __init__(self):\n",
    "        super().__init__()\n",
    "        self.linear = nn.Linear(input_size, num_classes)\n",
    "        \n",
    "    def forward(self, xb):\n",
    "        xb = xb.reshape(-1, 784)\n",
    "        out = self.linear(xb)\n",
    "        return out\n",
    "    \n",
    "    def training_step(self, batch):\n",
    "        images, labels = batch \n",
    "        out = self(images)                  # Generate predictions\n",
    "        loss = F.cross_entropy(out, labels) # Calculate loss\n",
    "        return loss\n",
    "    \n",
    "    def validation_step(self, batch):\n",
    "        images, labels = batch \n",
    "        out = self(images)                    # Generate predictions\n",
    "        loss = F.cross_entropy(out, labels)   # Calculate loss\n",
    "        acc = accuracy(out, labels)           # Calculate accuracy\n",
    "        return {'val_loss': loss, 'val_acc': acc}\n",
    "        \n",
    "    def validation_epoch_end(self, outputs):\n",
    "        batch_losses = [x['val_loss'] for x in outputs]\n",
    "        epoch_loss = torch.stack(batch_losses).mean()   # Combine losses\n",
    "        batch_accs = [x['val_acc'] for x in outputs]\n",
    "        epoch_acc = torch.stack(batch_accs).mean()      # Combine accuracies\n",
    "        return {'val_loss': epoch_loss.item(), 'val_acc': epoch_acc.item()}\n",
    "    \n",
    "    def epoch_end(self, epoch, result):\n",
    "        print(\"Epoch [{}], val_loss: {:.4f}, val_acc: {:.4f}\".format(epoch, result['val_loss'], result['val_acc']))\n",
    "    \n",
    "model = MnistModel()\n",
    "\n",
    "\n"
   ]
  },
  {
   "cell_type": "code",
   "execution_count": 51,
   "id": "99523d36-6875-4b6d-a425-ed6c3c10c4f5",
   "metadata": {},
   "outputs": [],
   "source": [
    "def evaluate(model, val_loader):\n",
    "    outputs = [model.validation_step(batch) for batch in val_loader]\n",
    "    return model.validation_epoch_end(outputs)\n",
    "\n",
    "def fit(epochs,lr , model, train_loadeer ,val_loader,opt_fun=torch.optim.SGD):\n",
    "    history=[]\n",
    "    optimizer=opt_fun(model.parameters(),lr)\n",
    "    for epoch in range(epochs):\n",
    "        for batch in train_loader:\n",
    "            loss=model.training_step(batch)\n",
    "            loss.backward()\n",
    "            optimizer.step()\n",
    "            optimizer.zero_grad()\n",
    "        result=evaluate(model,val_loader)\n",
    "        model.epoch_end(epoch,result)\n",
    "        history.append(result)\n",
    "    return history"
   ]
  },
  {
   "cell_type": "code",
   "execution_count": 52,
   "id": "3a4590c1-9b71-44fa-8e98-db9848fdacb3",
   "metadata": {},
   "outputs": [
    {
     "data": {
      "text/plain": [
       "{'val_loss': 2.3298816680908203, 'val_acc': 0.10289374738931656}"
      ]
     },
     "execution_count": 52,
     "metadata": {},
     "output_type": "execute_result"
    }
   ],
   "source": [
    "result0 = evaluate(model, val_loader)\n",
    "result0"
   ]
  },
  {
   "cell_type": "code",
   "execution_count": null,
   "id": "3d1cf1a6-b79d-4388-a65e-2125ba8d2078",
   "metadata": {},
   "outputs": [
    {
     "name": "stdout",
     "output_type": "stream",
     "text": [
      "Epoch [0], val_loss: 2.0279, val_acc: 0.1029\n"
     ]
    }
   ],
   "source": [
    "history= fit(5,0.0001,model,train_loader,val_loader)"
   ]
  },
  {
   "cell_type": "code",
   "execution_count": null,
   "id": "50d0618a-985a-4a54-ab0e-1746a8b6071c",
   "metadata": {},
   "outputs": [],
   "source": [
    "import torch \n",
    "import torchvision\n",
    "import numpy as np\n",
    "import matplotlib.pyplot as plt\n",
    "import torch.nn as nn\n",
    "import torch.nn.functional as F\n",
    "from torchvision.datasets import MNIST\n",
    "from torchvision.transforms import ToTensor\n",
    "from torchvision.utils import make_grid\n",
    "from torch.utils.data.dataloader import DataLoader\n",
    "from torch.utils.data import random_split\n",
    "%matplotlib inline\n"
   ]
  },
  {
   "cell_type": "code",
   "execution_count": null,
   "id": "9b3e3e50-d1b6-4690-aefb-76265424643b",
   "metadata": {},
   "outputs": [],
   "source": [
    "dataset =MNIST(root='data/',\n",
    "               download = True,\n",
    "               transform=ToTensor())"
   ]
  },
  {
   "cell_type": "code",
   "execution_count": null,
   "id": "c1f9e354-0c33-4e5a-a829-0c3f3fef35f3",
   "metadata": {},
   "outputs": [],
   "source": [
    "val_size=10000\n",
    "train_size=len(dataset)-val_size\n",
    "train_ds,val_ds=random_split(dataset,[train_size,val_size])\n",
    "len(train_ds),len(val_ds)"
   ]
  },
  {
   "cell_type": "code",
   "execution_count": null,
   "id": "0005e1db-b52e-424b-8ccc-1eb58ffa1e33",
   "metadata": {},
   "outputs": [],
   "source": [
    "batch_size=128"
   ]
  },
  {
   "cell_type": "code",
   "execution_count": null,
   "id": "ac660dc3-a828-4dd2-97b2-1cb91b6147e6",
   "metadata": {},
   "outputs": [],
   "source": [
    "train_loader=DataLoader(train_ds,batch_size,shuffle=True,num_workers=4,pin_memory=True)\n",
    "val_loader=DataLoader(val_ds,batch_size*2,num_workers=4,pin_memory=True)\n",
    "print(train_loader.batch_size)\n",
    "\n"
   ]
  },
  {
   "cell_type": "code",
   "execution_count": null,
   "id": "927150eb-5839-4684-a432-8664151668fb",
   "metadata": {},
   "outputs": [],
   "source": [
    "for (images,labels) in (train_loader):\n",
    "    print('images shape',images.shape)\n",
    "    plt.figure(figsize=(16,9))\n",
    "    plt.axis('off')\n",
    "    plt.imshow(make_grid(images,nrow=16).permute(1,2,0))\n",
    "    break"
   ]
  },
  {
   "cell_type": "code",
   "execution_count": null,
   "id": "a64b8a5f-d605-472d-ba2a-dceb517ed2b4",
   "metadata": {},
   "outputs": [],
   "source": [
    "def accuracy(outputs,labels):\n",
    "    _,preds=torch.max(outputs,dim=1)\n",
    "    return torch.tensor(torch.sum(preds==labels).item()/ len(preds))"
   ]
  },
  {
   "cell_type": "code",
   "execution_count": null,
   "id": "1df220ff-bf4a-4383-ab14-8b69c6e7e389",
   "metadata": {},
   "outputs": [],
   "source": [
    "class MnistModel(nn.Module):\n",
    "    def __init__(self,in_size,hidden_size,out_size):\n",
    "        super().__init__()\n",
    "        self.linear1=nn.Linear(in_size,hidden_size)\n",
    "        self.linear2=nn.Linear(hidden_size,out_size)\n",
    "    def forward(self,xb):\n",
    "        xb=xb.view(xb.size(0),-1)\n",
    "        out=self.linear1(xb)\n",
    "        out=F.relu(out)\n",
    "        out=self.linear2(out)\n",
    "        return out\n",
    "    def training_step(self,batch):\n",
    "        images,labels=batch\n",
    "        out=self(images)\n",
    "        loss=F.cross_entropy(out,labels)\n",
    "        return loss\n",
    "    def validation_step(self,batch):\n",
    "        images,labels=batch\n",
    "        out=self(images)\n",
    "        loss=F.cross_entropy(out,labels)\n",
    "        acc = accuracy(out,labels)\n",
    "        return {'val_loss':loss,'val_acc':acc}\n",
    "\n",
    "    def validation_epoch_end(self,outputs):\n",
    "            batch_losses=[x['val_loss'] for x in outputs]\n",
    "            epoch_loss=torch.stack(batch_losses).mean()\n",
    "            batch_accs=[x['val_acc'] for x in outputs]\n",
    "            epoch_acc=torch.stack(batch_accs).mean()\n",
    "            return {'val_loss':epoch_loss.item(),'val_acc':epoch_acc.item()}\n",
    "    def epoch_end(self,epoch,result):\n",
    "        print(\"epoch[{}] ,val_loss:{:.4f},val_acc:{:.4f}\".format(epoch,result['val_loss'],result['val_acc']))"
   ]
  },
  {
   "cell_type": "code",
   "execution_count": null,
   "id": "e2a16bee-1fee-469a-b5e0-ebfb9541d50c",
   "metadata": {},
   "outputs": [],
   "source": [
    "input_size=784\n",
    "hidden_size=32\n",
    "num_classes=10\n"
   ]
  },
  {
   "cell_type": "code",
   "execution_count": null,
   "id": "04882805-2f7c-48a4-8a96-c74981264171",
   "metadata": {},
   "outputs": [],
   "source": [
    "model=MnistModel(input_size,hidden_size,out_size=num_classes)\n",
    "model"
   ]
  },
  {
   "cell_type": "code",
   "execution_count": null,
   "id": "9e48046a-9af8-4dee-9f2b-11fe8490bc6b",
   "metadata": {},
   "outputs": [],
   "source": [
    "for t in model.parameters():\n",
    "    print(t.shape)"
   ]
  },
  {
   "cell_type": "code",
   "execution_count": null,
   "id": "8020b176-41e0-4b6e-ac25-7829a7a07fbb",
   "metadata": {},
   "outputs": [],
   "source": [
    "for images,labels in train_loader:\n",
    "    outputs=model(images)\n",
    "    loss=F.cross_entropy(outputs,labels)\n",
    "    print('loss',loss.item())\n",
    "    break\n",
    "print('output shape',outputs.shape)\n",
    "print('sample output:\\n',outputs[:2].data)"
   ]
  },
  {
   "cell_type": "code",
   "execution_count": null,
   "id": "2f578c2a-c73a-4de0-ace2-cd44ef404f25",
   "metadata": {},
   "outputs": [],
   "source": [
    "torch.cuda.is_available()"
   ]
  },
  {
   "cell_type": "code",
   "execution_count": null,
   "id": "d68ddba5-288b-4151-ba3e-66ff51123530",
   "metadata": {},
   "outputs": [],
   "source": [
    "def get_default_device():\n",
    "    if torch.cuda.is_available():\n",
    "        return torch.device('cuda')\n",
    "    else:\n",
    "        return torch.device('cpu')"
   ]
  },
  {
   "cell_type": "code",
   "execution_count": null,
   "id": "cd1faa73-0d92-4a8c-b5d6-fe2c5d790d16",
   "metadata": {},
   "outputs": [],
   "source": [
    "device=get_default_device()\n",
    "device"
   ]
  },
  {
   "cell_type": "code",
   "execution_count": null,
   "id": "61a3ddc3-ca9c-4c8b-9248-81527c71c38e",
   "metadata": {},
   "outputs": [],
   "source": [
    "def to_device(data,device):\n",
    "    if isinstance(data,(list,tuple)):\n",
    "        return [to_device(x,device) for x in data]\n",
    "    return data.to(device,non_blocking=True)\n",
    "    "
   ]
  },
  {
   "cell_type": "code",
   "execution_count": null,
   "id": "d6e3f131-61b5-46d4-bc66-5127c4006c53",
   "metadata": {},
   "outputs": [],
   "source": [
    "for images,labels in train_loader:\n",
    "    print(images.shape)\n",
    "    images=to_device(images,device)\n",
    "    print(images.device)\n",
    "    print(images)\n",
    "    break"
   ]
  },
  {
   "cell_type": "code",
   "execution_count": null,
   "id": "7da5daba-2e23-475e-a794-34792229ebc6",
   "metadata": {},
   "outputs": [],
   "source": [
    "class DeviceDataLoader():\n",
    "    def __init__(self,dl,device):\n",
    "        self.dl=dl\n",
    "        self.device=device\n",
    "    def __iter__(self):\n",
    "         for b in self.dl:\n",
    "             yield to_device(b,self.device)\n",
    "             \n",
    "    def __len__(self):\n",
    "         return len(self.dl)"
   ]
  },
  {
   "cell_type": "code",
   "execution_count": null,
   "id": "adcbf23f-4ab2-4aa1-93b3-15bf4f9a733b",
   "metadata": {},
   "outputs": [],
   "source": [
    "train_loader=DeviceDataLoader(train_loader,device)\n",
    "val_loader=DeviceDataLoader(val_loader,device)"
   ]
  },
  {
   "cell_type": "code",
   "execution_count": null,
   "id": "95fb80a5-8b57-4c2e-ae84-1a92722df910",
   "metadata": {},
   "outputs": [],
   "source": [
    "for xb,yb in val_loader:\n",
    "    print('xb.device:',xb.device)\n",
    "    print('yb:',yb)\n",
    "    break"
   ]
  },
  {
   "cell_type": "code",
   "execution_count": null,
   "id": "128ace07-2355-4896-ad22-66c204e2cdfa",
   "metadata": {},
   "outputs": [],
   "source": [
    "def evaluate(model,val_loader):\n",
    "    outputs=[model.validation_step(batch) for batch in val_loader]\n",
    "    return model.validation_epoch_end(outputs)\n",
    "def fit(epochs,lr,model,train_loader,val_loader,opt_func=torch.optim.SGD):\n",
    "    history=[]\n",
    "    optimizer=opt_func(model.parameters(),lr)\n",
    "    for epoch in range(epochs):\n",
    "        for batch in train_loader:\n",
    "            loss=model.training_step(batch)\n",
    "            loss.backward()\n",
    "            optimizer.step()\n",
    "            optimizer.zero_grad()\n",
    "        result=evaluate(model,val_loader)\n",
    "        model.epoch_end(epoch,result)\n",
    "        history.append(result)\n",
    "    return history"
   ]
  },
  {
   "cell_type": "code",
   "execution_count": null,
   "id": "74246344-07b7-4120-95ea-c63558ae66a0",
   "metadata": {},
   "outputs": [],
   "source": [
    "model=MnistModel(input_size,hidden_size=hidden_size,out_size=num_classes)\n",
    "to_device(model,device)"
   ]
  },
  {
   "cell_type": "code",
   "execution_count": null,
   "id": "f0ba9cec-f7eb-4a83-ba17-ddca8f0c9130",
   "metadata": {},
   "outputs": [],
   "source": [
    "history=[evaluate(model,val_loader)]\n",
    "history"
   ]
  },
  {
   "cell_type": "code",
   "execution_count": null,
   "id": "51dae63a-958a-4ce9-a69f-bc980287951a",
   "metadata": {},
   "outputs": [],
   "source": [
    "history+=fit(5,0.5,model,train_loader,val_loader)"
   ]
  },
  {
   "cell_type": "code",
   "execution_count": null,
   "id": "51dbb4d6-7ed9-41e8-b108-29e4d27d3c48",
   "metadata": {},
   "outputs": [],
   "source": [
    "history=[evaluate(model,val_loader)]\n",
    "history"
   ]
  },
  {
   "cell_type": "code",
   "execution_count": null,
   "id": "dc6003e8-ebc2-4bdd-bc02-cbab4a9dbfcd",
   "metadata": {},
   "outputs": [],
   "source": []
  },
  {
   "cell_type": "code",
   "execution_count": null,
   "id": "14a14480-aaae-4771-a9f1-98e6c3bd3291",
   "metadata": {},
   "outputs": [],
   "source": []
  },
  {
   "cell_type": "code",
   "execution_count": null,
   "id": "39ebd47b-4701-4119-8247-9af8bec6dd5e",
   "metadata": {},
   "outputs": [],
   "source": []
  },
  {
   "cell_type": "code",
   "execution_count": 1,
   "id": "88d771a7-c0d6-429e-b196-02e19cc36701",
   "metadata": {},
   "outputs": [
    {
     "name": "stderr",
     "output_type": "stream",
     "text": [
      "/usr/local/lib/python3.8/dist-packages/torchvision/io/image.py:13: UserWarning: Failed to load image Python extension: '/usr/local/lib/python3.8/dist-packages/torchvision/image.so: undefined symbol: _ZN5torch3jit17parseSchemaOrNameERKSs'If you don't plan on using image functionality from `torchvision.io`, you can ignore this warning. Otherwise, there might be something wrong with your environment. Did you have `libjpeg` or `libpng` installed before building `torchvision` from source?\n",
      "  warn(\n"
     ]
    }
   ],
   "source": [
    "import os \n",
    "import torch \n",
    "import torchvision\n",
    "import tarfile\n",
    "from torchvision.datasets.utils import download_url\n",
    "from torch.utils.data import random_split"
   ]
  },
  {
   "cell_type": "code",
   "execution_count": 2,
   "id": "65d9a9d7-6660-4b80-866b-bfe0df06b1fc",
   "metadata": {},
   "outputs": [],
   "source": [
    "project_name='cifar10'"
   ]
  },
  {
   "cell_type": "code",
   "execution_count": 3,
   "id": "0046591e-3a00-4e5d-a5b4-a39dde0ddfbc",
   "metadata": {},
   "outputs": [
    {
     "name": "stdout",
     "output_type": "stream",
     "text": [
      "Using downloaded and verified file: ./cifar10.tgz\n"
     ]
    }
   ],
   "source": [
    "dataset_url=\"https://s3.amazonaws.com/fast-ai-imageclas/cifar10.tgz\"\n",
    "download_url(dataset_url,'.')"
   ]
  },
  {
   "cell_type": "code",
   "execution_count": 4,
   "id": "dd9144e6-b2ed-4b4e-b3a7-c9f2f78c8874",
   "metadata": {},
   "outputs": [],
   "source": [
    "with tarfile.open('./cifar10.tgz','r:gz') as tar:\n",
    "    tar.extractall(path='./data')"
   ]
  },
  {
   "cell_type": "code",
   "execution_count": 5,
   "id": "ca93ff5d-06af-4783-8506-0f64f819aac1",
   "metadata": {},
   "outputs": [
    {
     "name": "stdout",
     "output_type": "stream",
     "text": [
      "['train', 'test']\n"
     ]
    }
   ],
   "source": [
    "data_dir='data/cifar10'\n",
    "print(os.listdir(data_dir))"
   ]
  },
  {
   "cell_type": "code",
   "execution_count": 6,
   "id": "39b4e0e4-fb2a-4ac1-a870-45b02ccdbfa1",
   "metadata": {},
   "outputs": [
    {
     "name": "stdout",
     "output_type": "stream",
     "text": [
      "['frog', 'ship', 'horse', 'cat', 'dog', 'airplane', 'deer', 'truck', 'bird', 'automobile']\n"
     ]
    }
   ],
   "source": [
    "classess=os.listdir(data_dir+'/train')\n",
    "print(classess)"
   ]
  },
  {
   "cell_type": "code",
   "execution_count": 7,
   "id": "c934c1f2-a7dd-4f9f-823b-596583bc48c7",
   "metadata": {},
   "outputs": [
    {
     "name": "stdout",
     "output_type": "stream",
     "text": [
      "number of training examples of airplane 5000\n",
      "['2699.png', '3093.png', '2890.png', '4060.png', '2146.png']\n"
     ]
    }
   ],
   "source": [
    " airplane_file=os.listdir(data_dir+'/train/airplane/')\n",
    "print(\"number of training examples of airplane\",len(airplane_file))\n",
    "print(airplane_file[:5])"
   ]
  },
  {
   "cell_type": "code",
   "execution_count": 8,
   "id": "996f481a-0c13-460f-a54f-93ce410e7859",
   "metadata": {},
   "outputs": [],
   "source": [
    "from torchvision.datasets import ImageFolder\n",
    "from torchvision.transforms import ToTensor"
   ]
  },
  {
   "cell_type": "code",
   "execution_count": 9,
   "id": "5726aa58-e573-4b61-b68b-f7bfd0135bfc",
   "metadata": {},
   "outputs": [],
   "source": [
    "dataset=ImageFolder(data_dir+'/train',transform=ToTensor())"
   ]
  },
  {
   "cell_type": "code",
   "execution_count": 10,
   "id": "743f9eaa-4f76-40dd-b8fb-89a90e9a1305",
   "metadata": {},
   "outputs": [
    {
     "data": {
      "text/plain": [
       "50000"
      ]
     },
     "execution_count": 10,
     "metadata": {},
     "output_type": "execute_result"
    }
   ],
   "source": [
    "len(dataset)"
   ]
  },
  {
   "cell_type": "code",
   "execution_count": 11,
   "id": "0a7438bb-e1fd-4a99-aa15-0535be20978b",
   "metadata": {},
   "outputs": [
    {
     "data": {
      "text/plain": [
       "torchvision.datasets.folder.ImageFolder"
      ]
     },
     "execution_count": 11,
     "metadata": {},
     "output_type": "execute_result"
    }
   ],
   "source": [
    "type(dataset)"
   ]
  },
  {
   "cell_type": "code",
   "execution_count": 12,
   "id": "71604605-a402-4e06-a0d7-bc237319038e",
   "metadata": {},
   "outputs": [
    {
     "name": "stdout",
     "output_type": "stream",
     "text": [
      "torch.Size([3, 32, 32]) 0\n"
     ]
    },
    {
     "data": {
      "text/plain": [
       "tensor([[[0.7922, 0.7922, 0.8000,  ..., 0.8118, 0.8039, 0.7961],\n",
       "         [0.8078, 0.8078, 0.8118,  ..., 0.8235, 0.8157, 0.8078],\n",
       "         [0.8235, 0.8275, 0.8314,  ..., 0.8392, 0.8314, 0.8235],\n",
       "         ...,\n",
       "         [0.8549, 0.8235, 0.7608,  ..., 0.9529, 0.9569, 0.9529],\n",
       "         [0.8588, 0.8510, 0.8471,  ..., 0.9451, 0.9451, 0.9451],\n",
       "         [0.8510, 0.8471, 0.8510,  ..., 0.9373, 0.9373, 0.9412]],\n",
       "\n",
       "        [[0.8000, 0.8000, 0.8078,  ..., 0.8157, 0.8078, 0.8000],\n",
       "         [0.8157, 0.8157, 0.8196,  ..., 0.8275, 0.8196, 0.8118],\n",
       "         [0.8314, 0.8353, 0.8392,  ..., 0.8392, 0.8353, 0.8275],\n",
       "         ...,\n",
       "         [0.8510, 0.8196, 0.7608,  ..., 0.9490, 0.9490, 0.9529],\n",
       "         [0.8549, 0.8471, 0.8471,  ..., 0.9412, 0.9412, 0.9412],\n",
       "         [0.8471, 0.8431, 0.8471,  ..., 0.9333, 0.9333, 0.9333]],\n",
       "\n",
       "        [[0.7804, 0.7804, 0.7882,  ..., 0.7843, 0.7804, 0.7765],\n",
       "         [0.7961, 0.7961, 0.8000,  ..., 0.8039, 0.7961, 0.7882],\n",
       "         [0.8118, 0.8157, 0.8235,  ..., 0.8235, 0.8157, 0.8078],\n",
       "         ...,\n",
       "         [0.8706, 0.8392, 0.7765,  ..., 0.9686, 0.9686, 0.9686],\n",
       "         [0.8745, 0.8667, 0.8627,  ..., 0.9608, 0.9608, 0.9608],\n",
       "         [0.8667, 0.8627, 0.8667,  ..., 0.9529, 0.9529, 0.9529]]])"
      ]
     },
     "execution_count": 12,
     "metadata": {},
     "output_type": "execute_result"
    }
   ],
   "source": [
    "img,label=dataset[0]\n",
    "print(img.shape,label)\n",
    "img"
   ]
  },
  {
   "cell_type": "code",
   "execution_count": 13,
   "id": "4f8300ec-9c01-4126-b5f9-7d0d09f72df6",
   "metadata": {},
   "outputs": [
    {
     "name": "stdout",
     "output_type": "stream",
     "text": [
      "['airplane', 'automobile', 'bird', 'cat', 'deer', 'dog', 'frog', 'horse', 'ship', 'truck']\n"
     ]
    }
   ],
   "source": [
    "print(dataset.classes)"
   ]
  },
  {
   "cell_type": "code",
   "execution_count": 14,
   "id": "90126fcb-1860-4984-b4f1-931d0869b315",
   "metadata": {},
   "outputs": [],
   "source": [
    "import matplotlib.pyplot as plt\n",
    "%matplotlib inline\n",
    "def show_example(img,label):\n",
    "    print('label',dataset.classes[label],\"(\"+str(label)+\")\")\n",
    "    plt.imshow(img.permute(1,2,0))"
   ]
  },
  {
   "cell_type": "code",
   "execution_count": 15,
   "id": "9b6330b7-3977-4f4a-a53c-67b8b5843926",
   "metadata": {},
   "outputs": [
    {
     "name": "stdout",
     "output_type": "stream",
     "text": [
      "label bird (2)\n"
     ]
    },
    {
     "data": {
      "image/png": "[encoded data removed]",
      "text/plain": [
       "<Figure size 640x480 with 1 Axes>"
      ]
     },
     "metadata": {},
     "output_type": "display_data"
    }
   ],
   "source": [
    "show_example(*dataset[10099])"
   ]
  },
  {
   "cell_type": "code",
   "execution_count": 16,
   "id": "7ad71b1f-99a9-4af2-8fdc-f830c983ace7",
   "metadata": {},
   "outputs": [
    {
     "data": {
      "text/plain": [
       "<torch._C.Generator at 0xffffb64aad50>"
      ]
     },
     "execution_count": 16,
     "metadata": {},
     "output_type": "execute_result"
    }
   ],
   "source": [
    "random_seed=42\n",
    "torch.manual_seed(random_seed)"
   ]
  },
  {
   "cell_type": "code",
   "execution_count": 17,
   "id": "0683da90-7c4a-4fc0-b900-cd5e67eba253",
   "metadata": {},
   "outputs": [
    {
     "data": {
      "text/plain": [
       "(45000, 5000)"
      ]
     },
     "execution_count": 17,
     "metadata": {},
     "output_type": "execute_result"
    }
   ],
   "source": [
    "val_size=5000\n",
    "train_size=len(dataset)-val_size\n",
    "train_ds,val_ds=random_split(dataset,[train_size,val_size])\n",
    "len(train_ds),len(val_ds)"
   ]
  },
  {
   "cell_type": "code",
   "execution_count": 18,
   "id": "3c36a750-4f1c-4f82-a852-18b2ec043ec8",
   "metadata": {},
   "outputs": [],
   "source": [
    "from torch.utils.data import DataLoader\n",
    "batch_size=1024"
   ]
  },
  {
   "cell_type": "code",
   "execution_count": 19,
   "id": "0f1858f8-5413-4d44-8c82-87ab2ad62e1d",
   "metadata": {},
   "outputs": [],
   "source": [
    "train_dl=DataLoader(train_ds,batch_size,shuffle=True,num_workers=4,pin_memory=True)\n",
    "val_dl=DataLoader(val_ds,batch_size*2,num_workers=4,pin_memory=True)"
   ]
  },
  {
   "cell_type": "code",
   "execution_count": 20,
   "id": "88cc17b4-765d-436e-a546-24572c835308",
   "metadata": {},
   "outputs": [],
   "source": [
    "from torchvision.utils import make_grid\n",
    "\n",
    "def show_batches(dl):\n",
    "    for images,labels in dl:\n",
    "        fig,ax=plt.subplots(figsize=(12,6))\n",
    "        ax.set_xticks([]);ax.set_yticks([])\n",
    "        ax.imshow(make_grid(images,nrow=16).permute(1,2,0))\n",
    "        break\n",
    "\n",
    "\n"
   ]
  },
  {
   "cell_type": "code",
   "execution_count": 21,
   "id": "7a8280c0-e7e7-4925-8504-33166c026ce6",
   "metadata": {},
   "outputs": [
    {
     "data": {
      "image/png": "[encoded data removed]",
      "text/plain": [
       "<Figure size 1200x600 with 1 Axes>"
      ]
     },
     "metadata": {},
     "output_type": "display_data"
    }
   ],
   "source": [
    "show_batches(train_dl)"
   ]
  },
  {
   "cell_type": "code",
   "execution_count": 22,
   "id": "4644a4be-335d-4861-898a-47968726ec7e",
   "metadata": {},
   "outputs": [],
   "source": [
    "def apply_kernel(image,kernel):\n",
    "    ri,ci=image.shape\n",
    "    rk,ck=kernel.shape\n",
    "    ro,co=ri-rk+1,ci-ck+1\n",
    "    output=torch.zeros([ro,co])\n",
    "    for i in range(ro):\n",
    "        for j in range(co):\n",
    "            output[i,j]=torch.sum(image[i:i+rk,j:j+ck]*kernel)\n",
    "    return output"
   ]
  },
  {
   "cell_type": "code",
   "execution_count": 23,
   "id": "784a73a3-a199-41b3-a2fc-aea324f6df5f",
   "metadata": {},
   "outputs": [],
   "source": [
    "sample_image=torch.tensor([\n",
    "    [3,3,3,3,3],\n",
    "    [1,1,1,1,1],\n",
    "    [2,2,2,2,2],\n",
    "    [0,0,0,0,0],\n",
    "    [1,2,3,0,1]\n",
    "],dtype=torch.float32)\n",
    "\n",
    "\n",
    "sample_kernel=torch.tensor([\n",
    "    [1,0,2],\n",
    "    [2,0,1],\n",
    "    [1,2,0]\n",
    "],dtype=torch.float32)\n",
    "\n",
    "\n"
   ]
  },
  {
   "cell_type": "code",
   "execution_count": 24,
   "id": "ef69ee23-65d6-4140-ae23-68cd42500186",
   "metadata": {},
   "outputs": [
    {
     "data": {
      "text/plain": [
       "tensor([[18., 18., 18.],\n",
       "        [ 9.,  9.,  9.],\n",
       "        [11., 14.,  9.]])"
      ]
     },
     "execution_count": 24,
     "metadata": {},
     "output_type": "execute_result"
    }
   ],
   "source": [
    "apply_kernel(sample_image,sample_kernel)"
   ]
  },
  {
   "cell_type": "code",
   "execution_count": 25,
   "id": "dc15fd97-25ec-4061-8ee3-e14f9ea0f48b",
   "metadata": {},
   "outputs": [],
   "source": [
    "import torch.nn as nn\n",
    "import torch.nn.functional as F"
   ]
  },
  {
   "cell_type": "code",
   "execution_count": 26,
   "id": "971d7921-c941-48ef-b0d5-432272edb965",
   "metadata": {},
   "outputs": [],
   "source": [
    "simple_model=nn.Sequential(\n",
    "    nn.Conv2d(3,8,kernel_size=3,stride=1,padding=1),\n",
    "    nn.MaxPool2d(2,2)\n",
    ")"
   ]
  },
  {
   "cell_type": "code",
   "execution_count": 27,
   "id": "f310514b-865c-40dc-95fc-a373599c5a8a",
   "metadata": {},
   "outputs": [
    {
     "data": {
      "text/plain": [
       "Sequential(\n",
       "  (0): Conv2d(3, 8, kernel_size=(3, 3), stride=(1, 1), padding=(1, 1))\n",
       "  (1): MaxPool2d(kernel_size=2, stride=2, padding=0, dilation=1, ceil_mode=False)\n",
       ")"
      ]
     },
     "execution_count": 27,
     "metadata": {},
     "output_type": "execute_result"
    }
   ],
   "source": [
    "simple_model"
   ]
  },
  {
   "cell_type": "code",
   "execution_count": 28,
   "id": "e210c4bb-da08-4ffd-901a-01df46bc080c",
   "metadata": {},
   "outputs": [
    {
     "name": "stdout",
     "output_type": "stream",
     "text": [
      "images shape torch.Size([1024, 3, 32, 32])\n",
      "out shape torch.Size([1024, 8, 16, 16])\n"
     ]
    }
   ],
   "source": [
    "for images,label in train_dl:\n",
    "    print('images shape',images.shape)\n",
    "    out=simple_model(images)\n",
    "    print('out shape',out.shape)\n",
    "    break"
   ]
  },
  {
   "cell_type": "code",
   "execution_count": 29,
   "id": "0a5dd80d-4c09-4769-aa80-2a88be0722be",
   "metadata": {},
   "outputs": [],
   "source": [
    "def accuracy(ouputs,labels):\n",
    "    _,preds=torch.max(outputs,dim=1)\n",
    "    return torch.tensor(torch.sum(preds==labels).item()/len(preds))\n"
   ]
  },
  {
   "cell_type": "code",
   "execution_count": 30,
   "id": "b012f038-d543-44a8-bc40-6cb4963f9325",
   "metadata": {},
   "outputs": [],
   "source": [
    "class ImageClassificationBase(nn.Module):\n",
    "    def training_step(self, batch):\n",
    "        images, labels = batch \n",
    "        out = self(images)                  # Generate predictions\n",
    "        loss = F.cross_entropy(out, labels) # Calculate loss\n",
    "        return loss\n",
    "    \n",
    "    def validation_step(self, batch):\n",
    "        images, labels = batch \n",
    "        out = self(images)                    # Generate predictions\n",
    "        loss = F.cross_entropy(out, labels)   # Calculate loss\n",
    "        acc = accuracy(out, labels)           # Calculate accuracy\n",
    "        return {'val_loss': loss.detach(), 'val_acc': acc}\n",
    "        \n",
    "    def validation_epoch_end(self, outputs):\n",
    "        batch_losses = [x['val_loss'] for x in outputs]\n",
    "        epoch_loss = torch.stack(batch_losses).mean()   # Combine losses\n",
    "        batch_accs = [x['val_acc'] for x in outputs]\n",
    "        epoch_acc = torch.stack(batch_accs).mean()      # Combine accuracies\n",
    "        return {'val_loss': epoch_loss.item(), 'val_acc': epoch_acc.item()}\n",
    "    \n",
    "    def epoch_end(self, epoch, result):\n",
    "        print(\"Epoch [{}], train_loss: {:.4f}, val_loss: {:.4f}, val_acc: {:.4f}\".format(\n",
    "            epoch, result['train_loss'], result['val_loss'], result['val_acc']))\n",
    "        \n",
    "def accuracy(outputs, labels):\n",
    "    _, preds = torch.max(outputs, dim=1)\n",
    "    return torch.tensor(torch.sum(preds == labels).item() / len(preds))\n",
    "\n",
    "\n",
    "\n",
    "    "
   ]
  },
  {
   "cell_type": "code",
   "execution_count": 31,
   "id": "2e6350a3-5ac9-4929-bcdb-f6ad0d02468f",
   "metadata": {},
   "outputs": [],
   "source": [
    "\n",
    "\n",
    "\n",
    "class Cifar10CnnModel(ImageClassificationBase):\n",
    "    def __init__(self):\n",
    "        super().__init__()\n",
    "        self.network = nn.Sequential(\n",
    "            nn.Conv2d(3, 32, kernel_size=3, padding=1),\n",
    "            nn.ReLU(),\n",
    "            nn.Conv2d(32, 64, kernel_size=3, stride=1, padding=1),\n",
    "            nn.ReLU(),\n",
    "            nn.MaxPool2d(2, 2), # output: 64 x 16 x 16\n",
    "\n",
    "            nn.Conv2d(64, 128, kernel_size=3, stride=1, padding=1),\n",
    "            nn.ReLU(),\n",
    "            nn.Conv2d(128, 128, kernel_size=3, stride=1, padding=1),\n",
    "            nn.ReLU(),\n",
    "            nn.MaxPool2d(2, 2), # output: 128 x 8 x 8\n",
    "\n",
    "            nn.Conv2d(128, 256, kernel_size=3, stride=1, padding=1),\n",
    "            nn.ReLU(),\n",
    "            nn.Conv2d(256, 256, kernel_size=3, stride=1, padding=1),\n",
    "            nn.ReLU(),\n",
    "            nn.MaxPool2d(2, 2), # output: 256 x 4 x 4\n",
    "\n",
    "            nn.Flatten(), \n",
    "            nn.Linear(256*4*4, 1024),\n",
    "            nn.ReLU(),\n",
    "            nn.Linear(1024, 512),\n",
    "            nn.ReLU(),\n",
    "            nn.Linear(512, 10))\n",
    "        \n",
    "    def forward(self, xb):\n",
    "        return self.network(xb)\n",
    "\n",
    "    "
   ]
  },
  {
   "cell_type": "code",
   "execution_count": 32,
   "id": "0dade97f-25ff-4003-b11c-1f2d4a707208",
   "metadata": {},
   "outputs": [
    {
     "name": "stdout",
     "output_type": "stream",
     "text": [
      "Cifar10CnnModel(\n",
      "  (network): Sequential(\n",
      "    (0): Conv2d(3, 32, kernel_size=(3, 3), stride=(1, 1), padding=(1, 1))\n",
      "    (1): ReLU()\n",
      "    (2): Conv2d(32, 64, kernel_size=(3, 3), stride=(1, 1), padding=(1, 1))\n",
      "    (3): ReLU()\n",
      "    (4): MaxPool2d(kernel_size=2, stride=2, padding=0, dilation=1, ceil_mode=False)\n",
      "    (5): Conv2d(64, 128, kernel_size=(3, 3), stride=(1, 1), padding=(1, 1))\n",
      "    (6): ReLU()\n",
      "    (7): Conv2d(128, 128, kernel_size=(3, 3), stride=(1, 1), padding=(1, 1))\n",
      "    (8): ReLU()\n",
      "    (9): MaxPool2d(kernel_size=2, stride=2, padding=0, dilation=1, ceil_mode=False)\n",
      "    (10): Conv2d(128, 256, kernel_size=(3, 3), stride=(1, 1), padding=(1, 1))\n",
      "    (11): ReLU()\n",
      "    (12): Conv2d(256, 256, kernel_size=(3, 3), stride=(1, 1), padding=(1, 1))\n",
      "    (13): ReLU()\n",
      "    (14): MaxPool2d(kernel_size=2, stride=2, padding=0, dilation=1, ceil_mode=False)\n",
      "    (15): Flatten(start_dim=1, end_dim=-1)\n",
      "    (16): Linear(in_features=4096, out_features=1024, bias=True)\n",
      "    (17): ReLU()\n",
      "    (18): Linear(in_features=1024, out_features=512, bias=True)\n",
      "    (19): ReLU()\n",
      "    (20): Linear(in_features=512, out_features=10, bias=True)\n",
      "  )\n",
      ")\n"
     ]
    }
   ],
   "source": [
    "model=Cifar10CnnModel()\n",
    "print(model)"
   ]
  },
  {
   "cell_type": "code",
   "execution_count": 33,
   "id": "0acf23ff-0283-4373-9ecc-d9378f8ff0d6",
   "metadata": {},
   "outputs": [
    {
     "data": {
      "text/plain": [
       "Cifar10CnnModel(\n",
       "  (network): Sequential(\n",
       "    (0): Conv2d(3, 32, kernel_size=(3, 3), stride=(1, 1), padding=(1, 1))\n",
       "    (1): ReLU()\n",
       "    (2): Conv2d(32, 64, kernel_size=(3, 3), stride=(1, 1), padding=(1, 1))\n",
       "    (3): ReLU()\n",
       "    (4): MaxPool2d(kernel_size=2, stride=2, padding=0, dilation=1, ceil_mode=False)\n",
       "    (5): Conv2d(64, 128, kernel_size=(3, 3), stride=(1, 1), padding=(1, 1))\n",
       "    (6): ReLU()\n",
       "    (7): Conv2d(128, 128, kernel_size=(3, 3), stride=(1, 1), padding=(1, 1))\n",
       "    (8): ReLU()\n",
       "    (9): MaxPool2d(kernel_size=2, stride=2, padding=0, dilation=1, ceil_mode=False)\n",
       "    (10): Conv2d(128, 256, kernel_size=(3, 3), stride=(1, 1), padding=(1, 1))\n",
       "    (11): ReLU()\n",
       "    (12): Conv2d(256, 256, kernel_size=(3, 3), stride=(1, 1), padding=(1, 1))\n",
       "    (13): ReLU()\n",
       "    (14): MaxPool2d(kernel_size=2, stride=2, padding=0, dilation=1, ceil_mode=False)\n",
       "    (15): Flatten(start_dim=1, end_dim=-1)\n",
       "    (16): Linear(in_features=4096, out_features=1024, bias=True)\n",
       "    (17): ReLU()\n",
       "    (18): Linear(in_features=1024, out_features=512, bias=True)\n",
       "    (19): ReLU()\n",
       "    (20): Linear(in_features=512, out_features=10, bias=True)\n",
       "  )\n",
       ")"
      ]
     },
     "execution_count": 33,
     "metadata": {},
     "output_type": "execute_result"
    }
   ],
   "source": [
    "model"
   ]
  },
  {
   "cell_type": "code",
   "execution_count": 34,
   "id": "4967ddd6-528e-4260-9735-5d0d46b88691",
   "metadata": {},
   "outputs": [
    {
     "name": "stdout",
     "output_type": "stream",
     "text": [
      "images.shape: torch.Size([1024, 3, 32, 32])\n",
      "out_shape: torch.Size([1024, 10])\n",
      "out[0]: tensor([ 0.0239, -0.0466,  0.0067,  0.0193,  0.0044, -0.0598, -0.0188, -0.0242,\n",
      "         0.0431, -0.0164], grad_fn=<SelectBackward0>)\n"
     ]
    }
   ],
   "source": [
    "for images,labels in train_dl:\n",
    "    print('images.shape:',images.shape)\n",
    "    out=model(images)\n",
    "    print('out_shape:',out.shape)\n",
    "    print('out[0]:',out[0])\n",
    "    break"
   ]
  },
  {
   "cell_type": "code",
   "execution_count": 35,
   "id": "ffaa1016-ce12-45e9-9b21-8482950f8df2",
   "metadata": {},
   "outputs": [],
   "source": [
    "def get_default_device():\n",
    "    if torch.cuda.is_available():\n",
    "        return torch.device('cuda')\n",
    "    else:\n",
    "        return torch.device('cpu')\n",
    "def to_device(data,device):\n",
    "    if isinstance(data,(list,tuple)):\n",
    "        return [to_device(x,device) for x in data]\n",
    "    return data.to(device,non_blocking=True)\n",
    "\n",
    "\n",
    "class DeviceLoader():\n",
    "    def __init__(self,dl,device):\n",
    "        self.dl=dl\n",
    "        self.device=device\n",
    "    def __iter__(self):\n",
    "        for b in self.dl:\n",
    "            yield to_device(b,self.device)\n",
    "        "
   ]
  },
  {
   "cell_type": "code",
   "execution_count": 36,
   "id": "9cd0edae-c534-4c3b-9e5b-3a96ed7664fd",
   "metadata": {},
   "outputs": [],
   "source": [
    "device=get_default_device()"
   ]
  },
  {
   "cell_type": "code",
   "execution_count": 37,
   "id": "a1a4a072-04ab-454a-b470-9d9fc2451b92",
   "metadata": {},
   "outputs": [
    {
     "data": {
      "text/plain": [
       "device(type='cuda')"
      ]
     },
     "execution_count": 37,
     "metadata": {},
     "output_type": "execute_result"
    }
   ],
   "source": [
    "device"
   ]
  },
  {
   "cell_type": "code",
   "execution_count": 38,
   "id": "f73e36e1-1544-42ed-a9fa-8ac8fa050c07",
   "metadata": {},
   "outputs": [],
   "source": [
    "train_dl=DeviceLoader(train_dl,device)\n",
    "val_dl=DeviceLoader(val_dl,device)"
   ]
  },
  {
   "cell_type": "code",
   "execution_count": 39,
   "id": "e69925dc-1d64-4c5a-a417-164136556b92",
   "metadata": {},
   "outputs": [
    {
     "data": {
      "text/plain": [
       "Cifar10CnnModel(\n",
       "  (network): Sequential(\n",
       "    (0): Conv2d(3, 32, kernel_size=(3, 3), stride=(1, 1), padding=(1, 1))\n",
       "    (1): ReLU()\n",
       "    (2): Conv2d(32, 64, kernel_size=(3, 3), stride=(1, 1), padding=(1, 1))\n",
       "    (3): ReLU()\n",
       "    (4): MaxPool2d(kernel_size=2, stride=2, padding=0, dilation=1, ceil_mode=False)\n",
       "    (5): Conv2d(64, 128, kernel_size=(3, 3), stride=(1, 1), padding=(1, 1))\n",
       "    (6): ReLU()\n",
       "    (7): Conv2d(128, 128, kernel_size=(3, 3), stride=(1, 1), padding=(1, 1))\n",
       "    (8): ReLU()\n",
       "    (9): MaxPool2d(kernel_size=2, stride=2, padding=0, dilation=1, ceil_mode=False)\n",
       "    (10): Conv2d(128, 256, kernel_size=(3, 3), stride=(1, 1), padding=(1, 1))\n",
       "    (11): ReLU()\n",
       "    (12): Conv2d(256, 256, kernel_size=(3, 3), stride=(1, 1), padding=(1, 1))\n",
       "    (13): ReLU()\n",
       "    (14): MaxPool2d(kernel_size=2, stride=2, padding=0, dilation=1, ceil_mode=False)\n",
       "    (15): Flatten(start_dim=1, end_dim=-1)\n",
       "    (16): Linear(in_features=4096, out_features=1024, bias=True)\n",
       "    (17): ReLU()\n",
       "    (18): Linear(in_features=1024, out_features=512, bias=True)\n",
       "    (19): ReLU()\n",
       "    (20): Linear(in_features=512, out_features=10, bias=True)\n",
       "  )\n",
       ")"
      ]
     },
     "execution_count": 39,
     "metadata": {},
     "output_type": "execute_result"
    }
   ],
   "source": [
    "to_device(model,device)"
   ]
  },
  {
   "cell_type": "code",
   "execution_count": 40,
   "id": "f36b1762-0c3f-4455-a868-59421b628169",
   "metadata": {},
   "outputs": [],
   "source": [
    "@torch.no_grad()\n",
    "def evaluate(model, val_loader):\n",
    "    model.eval()\n",
    "    outputs = [model.validation_step(batch) for batch in val_loader]\n",
    "    return model.validation_epoch_end(outputs)\n",
    "\n",
    "def fit(epochs, lr, model, train_loader, val_loader, opt_func=torch.optim.SGD):\n",
    "    history = []\n",
    "    optimizer = opt_func(model.parameters(), lr)\n",
    "    for epoch in range(epochs):\n",
    "        # Training Phase \n",
    "        model.train()\n",
    "        train_losses = []\n",
    "        for batch in train_loader:\n",
    "            loss = model.training_step(batch)\n",
    "            train_losses.append(loss)\n",
    "            loss.backward()\n",
    "            optimizer.step()\n",
    "            optimizer.zero_grad()\n",
    "        # Validation phase\n",
    "        result = evaluate(model, val_loader)\n",
    "        result['train_loss'] = torch.stack(train_losses).mean().item()\n",
    "        model.epoch_end(epoch, result)\n",
    "        history.append(result)\n",
    "    return history\n",
    "    "
   ]
  },
  {
   "cell_type": "code",
   "execution_count": 41,
   "id": "34ed0505-474e-4805-9265-8cee96930c58",
   "metadata": {},
   "outputs": [],
   "source": [
    "model=to_device(Cifar10CnnModel(),device)"
   ]
  },
  {
   "cell_type": "code",
   "execution_count": 42,
   "id": "3a3b73e9-b51b-44f2-abb2-8b5dbf287c33",
   "metadata": {},
   "outputs": [
    {
     "data": {
      "text/plain": [
       "{'val_loss': 2.302900552749634, 'val_acc': 0.10004427284002304}"
      ]
     },
     "execution_count": 42,
     "metadata": {},
     "output_type": "execute_result"
    }
   ],
   "source": [
    "evaluate(model,train_dl)"
   ]
  },
  {
   "cell_type": "code",
   "execution_count": 43,
   "id": "8a688f30-3107-4169-beea-43a4bf21e6f5",
   "metadata": {},
   "outputs": [],
   "source": [
    "num_epochs=10\n",
    "opt_func=torch.optim.Adam\n",
    "lr=0.001"
   ]
  },
  {
   "cell_type": "code",
   "execution_count": null,
   "id": "f6e4b655-ac51-4344-859b-5c36099debb3",
   "metadata": {},
   "outputs": [
    {
     "name": "stdout",
     "output_type": "stream",
     "text": [
      "Epoch [0], train_loss: 2.1042, val_loss: 1.9069, val_acc: 0.2934\n",
      "Epoch [1], train_loss: 1.7612, val_loss: 1.9876, val_acc: 0.3107\n",
      "Epoch [2], train_loss: 1.5916, val_loss: 1.4679, val_acc: 0.4601\n",
      "Epoch [3], train_loss: 1.4061, val_loss: 1.3609, val_acc: 0.5019\n",
      "Epoch [4], train_loss: 1.2574, val_loss: 1.2916, val_acc: 0.5265\n",
      "Epoch [5], train_loss: 1.1444, val_loss: 1.1302, val_acc: 0.5916\n",
      "Epoch [6], train_loss: 1.0513, val_loss: 1.0281, val_acc: 0.6330\n",
      "Epoch [7], train_loss: 0.9448, val_loss: 0.9893, val_acc: 0.6507\n"
     ]
    }
   ],
   "source": [
    "history=fit(num_epochs,lr,model,train_dl,val_dl,opt_func)"
   ]
  },
  {
   "cell_type": "code",
   "execution_count": null,
   "id": "87fc5b8f-0d8f-41df-9011-18a89bdc58d8",
   "metadata": {},
   "outputs": [],
   "source": [
    "def plot_accuracies(history):\n",
    "    accuracies = [x['val_acc'] for x in history]\n",
    "    plt.plot(accuracies, '-x')\n",
    "    plt.xlabel('epoch')\n",
    "    plt.ylabel('accuracy')\n",
    "    plt.title('Accuracy vs. No. of epochs');"
   ]
  },
  {
   "cell_type": "code",
   "execution_count": null,
   "id": "0e4734ad-bd39-4bea-9a2b-c36335fe9072",
   "metadata": {},
   "outputs": [],
   "source": [
    "plot_accuracies(history)"
   ]
  },
  {
   "cell_type": "code",
   "execution_count": null,
   "id": "3e1f7cd3-e06f-4967-8af0-cfa4b8bb6d27",
   "metadata": {},
   "outputs": [],
   "source": [
    "def plot_losses(history):\n",
    "    train_losses = [x.get('train_loss') for x in history]\n",
    "    val_losses = [x['val_loss'] for x in history]\n",
    "    plt.plot(train_losses, '-bx')\n",
    "    plt.plot(val_losses, '-rx')\n",
    "    plt.xlabel('epoch')\n",
    "    plt.ylabel('loss')\n",
    "    plt.legend(['Training', 'Validation'])\n",
    "    plt.title('Loss vs. No. of epochs');"
   ]
  },
  {
   "cell_type": "code",
   "execution_count": null,
   "id": "71e426c5-e631-4a87-a54a-6959fea6d06e",
   "metadata": {},
   "outputs": [],
   "source": [
    "plot_losses(history)"
   ]
  },
  {
   "cell_type": "code",
   "execution_count": null,
   "id": "1487f108-4820-469e-9080-cefdce38737a",
   "metadata": {},
   "outputs": [],
   "source": [
    "test_dataset = ImageFolder(data_dir+'/test', transform=ToTensor())"
   ]
  },
  {
   "cell_type": "code",
   "execution_count": null,
   "id": "261bb2cf-bca4-45ea-bbd3-e30fe7d4c740",
   "metadata": {},
   "outputs": [],
   "source": [
    "def predict_image(img, model):\n",
    "    # Convert to a batch of 1\n",
    "    xb = to_device(img.unsqueeze(0), device)\n",
    "    # Get predictions from model\n",
    "    yb = model(xb)\n",
    "    # Pick index with highest probability\n",
    "    _, preds  = torch.max(yb, dim=1)\n",
    "    # Retrieve the class label\n",
    "    return dataset.classes[preds[0].item()]"
   ]
  },
  {
   "cell_type": "code",
   "execution_count": null,
   "id": "c7da1f38-e7f8-4f12-8ce9-a83d1dc0d202",
   "metadata": {},
   "outputs": [],
   "source": [
    "img, label = test_dataset[0]\n",
    "plt.imshow(img.permute(1, 2, 0))\n",
    "print('Label:', dataset.classes[label], ', Predicted:', predict_image(img, model))"
   ]
  },
  {
   "cell_type": "code",
   "execution_count": null,
   "id": "227a4bbb-519c-43dd-924f-d8ce141e0280",
   "metadata": {},
   "outputs": [],
   "source": []
  },
  {
   "cell_type": "code",
   "execution_count": null,
   "id": "62d59b5a-bb77-4070-8751-4bb6c8ab7e7c",
   "metadata": {},
   "outputs": [],
   "source": []
  },
  {
   "cell_type": "code",
   "execution_count": null,
   "id": "c88dc05e-517b-4bd8-8150-3c0f8eb0aec2",
   "metadata": {},
   "outputs": [],
   "source": []
  },
  {
   "cell_type": "code",
   "execution_count": null,
   "id": "4e129d24-9b4d-4732-9f56-6270fee24117",
   "metadata": {},
   "outputs": [],
   "source": []
  },
  {
   "cell_type": "code",
   "execution_count": null,
   "id": "e7370c24-b07d-47f4-86ce-3df1535ef965",
   "metadata": {},
   "outputs": [],
   "source": []
  },
  {
   "cell_type": "code",
   "execution_count": null,
   "id": "cbbf3cd3-cc3a-4334-ade3-eb6fc4290411",
   "metadata": {},
   "outputs": [],
   "source": []
  },
  {
   "cell_type": "code",
   "execution_count": null,
   "id": "5b68888d-f0ca-4977-a480-74b85ca54531",
   "metadata": {},
   "outputs": [],
   "source": []
  },
  {
   "cell_type": "code",
   "execution_count": null,
   "id": "88251cc4-855c-4d38-98e2-0ce5cb7eef03",
   "metadata": {},
   "outputs": [],
   "source": []
  },
  {
   "cell_type": "code",
   "execution_count": null,
   "id": "e957b095-e967-436c-a980-4055982f5969",
   "metadata": {},
   "outputs": [],
   "source": []
  },
  {
   "cell_type": "code",
   "execution_count": null,
   "id": "9639b5bb-ae95-4fe1-809b-ed328340eccc",
   "metadata": {},
   "outputs": [],
   "source": []
  },
  {
   "cell_type": "code",
   "execution_count": null,
   "id": "92e475df-a71e-4d83-9f51-d7cb6b72c784",
   "metadata": {},
   "outputs": [],
   "source": []
  },
  {
   "cell_type": "code",
   "execution_count": null,
   "id": "804e2bf4-fdda-41e3-93e3-fa10b6f57860",
   "metadata": {},
   "outputs": [],
   "source": []
  },
  {
   "cell_type": "code",
   "execution_count": null,
   "id": "c49cade6-1400-4014-8352-b46bec602fd0",
   "metadata": {},
   "outputs": [],
   "source": []
  },
  {
   "cell_type": "code",
   "execution_count": null,
   "id": "be8aa77b-0cb3-4ea9-9943-3a62c6fa6f71",
   "metadata": {},
   "outputs": [],
   "source": []
  },
  {
   "cell_type": "code",
   "execution_count": null,
   "id": "3a4aed49-ed89-4e25-8cd6-b1bec32109b4",
   "metadata": {},
   "outputs": [],
   "source": []
  },
  {
   "cell_type": "code",
   "execution_count": null,
   "id": "663df36d-5094-490e-a8dd-cfc2c8566fc5",
   "metadata": {},
   "outputs": [],
   "source": []
  },
  {
   "cell_type": "code",
   "execution_count": null,
   "id": "289037ca-3aa3-4919-9cfa-d60edf4f783b",
   "metadata": {},
   "outputs": [],
   "source": []
  },
  {
   "cell_type": "code",
   "execution_count": null,
   "id": "85d3a755-7edf-462b-a51f-7c3da91abc1e",
   "metadata": {},
   "outputs": [],
   "source": []
  },
  {
   "cell_type": "code",
   "execution_count": null,
   "id": "b8563b55-af92-4183-9923-74c11a7aa7ef",
   "metadata": {},
   "outputs": [],
   "source": []
  },
  {
   "cell_type": "code",
   "execution_count": null,
   "id": "bb45e1be-5e65-4727-8730-50cfbebdc80d",
   "metadata": {},
   "outputs": [],
   "source": []
  },
  {
   "cell_type": "code",
   "execution_count": null,
   "id": "33f8e5d6-ef03-4d63-b73a-b8e62e725762",
   "metadata": {},
   "outputs": [],
   "source": []
  },
  {
   "cell_type": "code",
   "execution_count": null,
   "id": "2df248e4-10bf-4a77-8c60-06b5e4babdd4",
   "metadata": {},
   "outputs": [],
   "source": []
  },
  {
   "cell_type": "code",
   "execution_count": null,
   "id": "3433425a-f93e-48a0-8abd-231edbdd5c9d",
   "metadata": {},
   "outputs": [],
   "source": []
  },
  {
   "cell_type": "code",
   "execution_count": null,
   "id": "ce259414-5625-4655-834b-bd57318302be",
   "metadata": {},
   "outputs": [],
   "source": []
  },
  {
   "cell_type": "code",
   "execution_count": null,
   "id": "7e10bbb5-f805-4dd6-ba78-d367c6f6711a",
   "metadata": {},
   "outputs": [],
   "source": []
  },
  {
   "cell_type": "code",
   "execution_count": null,
   "id": "403f54cf-19cf-4c95-97bc-5eb4d2706c8d",
   "metadata": {},
   "outputs": [],
   "source": []
  },
  {
   "cell_type": "code",
   "execution_count": null,
   "id": "0af76d1c-f857-4cd4-98d3-2f2c2567d9fa",
   "metadata": {},
   "outputs": [],
   "source": []
  },
  {
   "cell_type": "code",
   "execution_count": null,
   "id": "89c71b33-2aff-43a2-a79f-addd2c3fa9b6",
   "metadata": {},
   "outputs": [],
   "source": []
  },
  {
   "cell_type": "code",
   "execution_count": null,
   "id": "1047bdf5-a00f-4f35-9fc7-850e527f9802",
   "metadata": {},
   "outputs": [],
   "source": []
  },
  {
   "cell_type": "code",
   "execution_count": null,
   "id": "9c62555e-ce60-4d50-8cc4-0b47e4170679",
   "metadata": {},
   "outputs": [],
   "source": []
  },
  {
   "cell_type": "code",
   "execution_count": null,
   "id": "a487b515-57d4-4f14-a898-7d76d24d802e",
   "metadata": {},
   "outputs": [],
   "source": []
  },
  {
   "cell_type": "code",
   "execution_count": null,
   "id": "5b9bf24a-67d7-413e-ace3-1f038c382553",
   "metadata": {},
   "outputs": [],
   "source": []
  },
  {
   "cell_type": "code",
   "execution_count": null,
   "id": "3eece254-d40a-4d8a-adf0-2cfdbab54f4a",
   "metadata": {},
   "outputs": [],
   "source": []
  },
  {
   "cell_type": "code",
   "execution_count": null,
   "id": "951e53dd-c0f7-4f16-9420-0a7133ad4604",
   "metadata": {},
   "outputs": [],
   "source": []
  },
  {
   "cell_type": "code",
   "execution_count": null,
   "id": "1c51ae9b-a971-492b-9f51-13aae1413067",
   "metadata": {},
   "outputs": [],
   "source": []
  },
  {
   "cell_type": "code",
   "execution_count": null,
   "id": "b631bc12-43ac-4c7f-8d06-015a376f8b3f",
   "metadata": {},
   "outputs": [],
   "source": []
  },
  {
   "cell_type": "code",
   "execution_count": null,
   "id": "9b205d75-e19c-4e17-a511-7a0d34d1cc47",
   "metadata": {},
   "outputs": [],
   "source": []
  },
  {
   "cell_type": "code",
   "execution_count": null,
   "id": "5e3c1ac4-9be3-4dbe-9546-b44d3f673503",
   "metadata": {},
   "outputs": [],
   "source": []
  },
  {
   "cell_type": "code",
   "execution_count": null,
   "id": "94cee465-a4c7-484a-8e55-221f7d261a7c",
   "metadata": {},
   "outputs": [],
   "source": []
  },
  {
   "cell_type": "code",
   "execution_count": null,
   "id": "32713e24-c211-48f3-9296-450d2ee8e1d3",
   "metadata": {},
   "outputs": [],
   "source": []
  },
  {
   "cell_type": "code",
   "execution_count": null,
   "id": "e2940cbc-4026-4f90-a1b2-3d37d8689f90",
   "metadata": {},
   "outputs": [],
   "source": []
  },
  {
   "cell_type": "code",
   "execution_count": null,
   "id": "3b8309d8-b399-4495-ab47-cb26dc047e78",
   "metadata": {},
   "outputs": [],
   "source": []
  },
  {
   "cell_type": "code",
   "execution_count": null,
   "id": "94529b8d-192b-4079-a3c4-88c39e210a8b",
   "metadata": {},
   "outputs": [],
   "source": []
  },
  {
   "cell_type": "code",
   "execution_count": null,
   "id": "b438828f-eeaa-44b7-b3fe-91ea814b7b1b",
   "metadata": {},
   "outputs": [],
   "source": []
  },
  {
   "cell_type": "code",
   "execution_count": null,
   "id": "1a53bfb4-23d3-4c9b-a694-9d3f3da51b0f",
   "metadata": {},
   "outputs": [],
   "source": []
  },
  {
   "cell_type": "code",
   "execution_count": null,
   "id": "ba251686-34c0-4346-a57d-ebfc1e299297",
   "metadata": {},
   "outputs": [],
   "source": []
  },
  {
   "cell_type": "code",
   "execution_count": null,
   "id": "d2c08023-ec72-4189-b453-78492cb37b0e",
   "metadata": {},
   "outputs": [],
   "source": []
  },
  {
   "cell_type": "code",
   "execution_count": null,
   "id": "26760357-3a69-459d-be44-f1e1b74a7dd5",
   "metadata": {},
   "outputs": [],
   "source": []
  },
  {
   "cell_type": "code",
   "execution_count": null,
   "id": "fac112ea-816b-4675-97f5-ce56bba7d703",
   "metadata": {},
   "outputs": [],
   "source": []
  },
  {
   "cell_type": "code",
   "execution_count": null,
   "id": "b474edc0-ff3c-4411-ae59-dd7bddd3401d",
   "metadata": {},
   "outputs": [],
   "source": []
  },
  {
   "cell_type": "code",
   "execution_count": null,
   "id": "5cf26334-a66c-4e12-988d-cad08a364e28",
   "metadata": {},
   "outputs": [],
   "source": []
  },
  {
   "cell_type": "code",
   "execution_count": null,
   "id": "72543855-6fad-4d54-aefe-e690cb95c7be",
   "metadata": {},
   "outputs": [],
   "source": []
  },
  {
   "cell_type": "code",
   "execution_count": null,
   "id": "acff90b0-b2bc-4553-b94c-5b3437033981",
   "metadata": {},
   "outputs": [],
   "source": []
  },
  {
   "cell_type": "code",
   "execution_count": null,
   "id": "ff5790c1-d615-4464-85ce-c4509ac65f0d",
   "metadata": {},
   "outputs": [],
   "source": []
  },
  {
   "cell_type": "code",
   "execution_count": null,
   "id": "3e0e2dc8-8b08-4304-a3df-919615fd9a3e",
   "metadata": {},
   "outputs": [],
   "source": []
  },
  {
   "cell_type": "code",
   "execution_count": null,
   "id": "41c78b76-7f10-4ca4-b6f1-ad91be830519",
   "metadata": {},
   "outputs": [],
   "source": []
  },
  {
   "cell_type": "code",
   "execution_count": null,
   "id": "80711fd8-2e2d-4668-9193-61ec3933331a",
   "metadata": {},
   "outputs": [],
   "source": []
  },
  {
   "cell_type": "code",
   "execution_count": null,
   "id": "68558de2-957c-48df-adce-3f1026b54d5e",
   "metadata": {},
   "outputs": [],
   "source": []
  },
  {
   "cell_type": "code",
   "execution_count": null,
   "id": "a138f317-923f-4031-a12d-23b2a59200f4",
   "metadata": {},
   "outputs": [],
   "source": []
  },
  {
   "cell_type": "code",
   "execution_count": null,
   "id": "498f40b1-a30e-431d-a7b5-7d5486f4ca59",
   "metadata": {},
   "outputs": [],
   "source": []
  },
  {
   "cell_type": "code",
   "execution_count": null,
   "id": "31ce4332-f7b2-4f39-9c90-5381d11da468",
   "metadata": {},
   "outputs": [],
   "source": []
  },
  {
   "cell_type": "code",
   "execution_count": null,
   "id": "33be884b-5167-47ad-97b4-fb0314b0a2ac",
   "metadata": {},
   "outputs": [],
   "source": []
  },
  {
   "cell_type": "code",
   "execution_count": null,
   "id": "3cb751e0-9be6-4f59-99f1-15e17bc26332",
   "metadata": {},
   "outputs": [],
   "source": []
  },
  {
   "cell_type": "code",
   "execution_count": null,
   "id": "db3e442e-29a2-408c-b02c-12a62f435b29",
   "metadata": {},
   "outputs": [],
   "source": []
  },
  {
   "cell_type": "code",
   "execution_count": null,
   "id": "00a63820-7fec-48f3-acbe-03aeeb4afee5",
   "metadata": {},
   "outputs": [],
   "source": []
  },
  {
   "cell_type": "code",
   "execution_count": null,
   "id": "83a81c54-7adb-478c-90fa-46464e77ee16",
   "metadata": {},
   "outputs": [],
   "source": []
  },
  {
   "cell_type": "code",
   "execution_count": null,
   "id": "8b17f4a9-1f13-444c-82a9-2b18f9e0e225",
   "metadata": {},
   "outputs": [],
   "source": []
  }
 ],
 "metadata": {
  "kernelspec": {
   "display_name": "Python 3 (ipykernel)",
   "language": "python",
   "name": "python3"
  },
  "language_info": {
   "codemirror_mode": {
    "name": "ipython",
    "version": 3
   },
   "file_extension": ".py",
   "mimetype": "text/x-python",
   "name": "python",
   "nbconvert_exporter": "python",
   "pygments_lexer": "ipython3",
   "version": "3.8.10"
  }
 },
 "nbformat": 4,
 "nbformat_minor": 5
}
