{
 "cells": [
  {
   "cell_type": "code",
   "execution_count": 2,
   "id": "4ae3bfeb-0771-46c9-ab61-d060db2cbc0f",
   "metadata": {},
   "outputs": [],
   "source": [
    "import sklearn\n",
    "import cv2\n",
    "import pandas as pd\n",
    "from __future__ import print_function\n",
    "import numpy as np\n",
    "import matplotlib.pyplot as plt\n",
    "%matplotlib inline\n",
    "import glob\n",
    "import os\n",
    "import sys\n",
    "from PIL import Image\n",
    "\n",
    "\n",
    "\n",
    "\n",
    "import os\n",
    "\n",
    "import numpy as np\n",
    "from keras import backend as K\n",
    "from keras.callbacks import ModelCheckpoint, CSVLogger\n",
    "from keras.layers import Input, concatenate, Conv2D, MaxPooling2D, UpSampling2D\n",
    "from keras.models import Model\n",
    "from keras.optimizers import Adam\n",
    "from skimage.io import imsave"
   ]
  },
  {
   "cell_type": "code",
   "execution_count": 3,
   "id": "b61e366f-f300-4ead-916d-e28d86acbd60",
   "metadata": {},
   "outputs": [],
   "source": [
    "label=pd.read_csv('./image_label.csv')"
   ]
  },
  {
   "cell_type": "code",
   "execution_count": 4,
   "id": "64213fb8-dca6-4bb0-92ce-421a257a97b9",
   "metadata": {},
   "outputs": [],
   "source": [
    "sorted_label=label.sort_values('Image_name')\n",
    "\n",
    "\n",
    "#label=label.to_numpy()"
   ]
  },
  {
   "cell_type": "code",
   "execution_count": 5,
   "id": "4e19f1be-000e-4dc1-b66c-9d0265e4f174",
   "metadata": {},
   "outputs": [
    {
     "data": {
      "text/html": [
       "<div>\n",
       "<style scoped>\n",
       "    .dataframe tbody tr th:only-of-type {\n",
       "        vertical-align: middle;\n",
       "    }\n",
       "\n",
       "    .dataframe tbody tr th {\n",
       "        vertical-align: top;\n",
       "    }\n",
       "\n",
       "    .dataframe thead th {\n",
       "        text-align: right;\n",
       "    }\n",
       "</style>\n",
       "<table border=\"1\" class=\"dataframe\">\n",
       "  <thead>\n",
       "    <tr style=\"text-align: right;\">\n",
       "      <th></th>\n",
       "      <th>Image_name</th>\n",
       "      <th>Plane</th>\n",
       "    </tr>\n",
       "  </thead>\n",
       "  <tbody>\n",
       "    <tr>\n",
       "      <th>1274</th>\n",
       "      <td>Patient00168_Plane6_1_of_4</td>\n",
       "      <td>Fetal thorax</td>\n",
       "    </tr>\n",
       "    <tr>\n",
       "      <th>634</th>\n",
       "      <td>Patient00188_Plane5_1_of_1</td>\n",
       "      <td>Fetal femur</td>\n",
       "    </tr>\n",
       "    <tr>\n",
       "      <th>1127</th>\n",
       "      <td>Patient00216_Plane6_2_of_3</td>\n",
       "      <td>Fetal thorax</td>\n",
       "    </tr>\n",
       "    <tr>\n",
       "      <th>1461</th>\n",
       "      <td>Patient00305_Plane2_1_of_2</td>\n",
       "      <td>Fetal abdomen</td>\n",
       "    </tr>\n",
       "    <tr>\n",
       "      <th>290</th>\n",
       "      <td>Patient00305_Plane3_1_of_5</td>\n",
       "      <td>Fetal brain</td>\n",
       "    </tr>\n",
       "    <tr>\n",
       "      <th>...</th>\n",
       "      <td>...</td>\n",
       "      <td>...</td>\n",
       "    </tr>\n",
       "    <tr>\n",
       "      <th>1316</th>\n",
       "      <td>Patient01788_Plane2_1_of_1</td>\n",
       "      <td>Fetal abdomen</td>\n",
       "    </tr>\n",
       "    <tr>\n",
       "      <th>1604</th>\n",
       "      <td>Patient01789_Plane2_1_of_2</td>\n",
       "      <td>Fetal abdomen</td>\n",
       "    </tr>\n",
       "    <tr>\n",
       "      <th>1595</th>\n",
       "      <td>Patient01790_Plane2_1_of_1</td>\n",
       "      <td>Fetal abdomen</td>\n",
       "    </tr>\n",
       "    <tr>\n",
       "      <th>688</th>\n",
       "      <td>Patient01791_Plane5_1_of_1</td>\n",
       "      <td>Fetal femur</td>\n",
       "    </tr>\n",
       "    <tr>\n",
       "      <th>1347</th>\n",
       "      <td>Patient01792_Plane2_1_of_1</td>\n",
       "      <td>Fetal abdomen</td>\n",
       "    </tr>\n",
       "  </tbody>\n",
       "</table>\n",
       "<p>1646 rows × 2 columns</p>\n",
       "</div>"
      ],
      "text/plain": [
       "                      Image_name          Plane\n",
       "1274  Patient00168_Plane6_1_of_4   Fetal thorax\n",
       "634   Patient00188_Plane5_1_of_1    Fetal femur\n",
       "1127  Patient00216_Plane6_2_of_3   Fetal thorax\n",
       "1461  Patient00305_Plane2_1_of_2  Fetal abdomen\n",
       "290   Patient00305_Plane3_1_of_5    Fetal brain\n",
       "...                          ...            ...\n",
       "1316  Patient01788_Plane2_1_of_1  Fetal abdomen\n",
       "1604  Patient01789_Plane2_1_of_2  Fetal abdomen\n",
       "1595  Patient01790_Plane2_1_of_1  Fetal abdomen\n",
       "688   Patient01791_Plane5_1_of_1    Fetal femur\n",
       "1347  Patient01792_Plane2_1_of_1  Fetal abdomen\n",
       "\n",
       "[1646 rows x 2 columns]"
      ]
     },
     "execution_count": 5,
     "metadata": {},
     "output_type": "execute_result"
    }
   ],
   "source": [
    "sorted_label"
   ]
  },
  {
   "cell_type": "code",
   "execution_count": 6,
   "id": "32008428-ab7a-4d81-a88a-4cb08bf61476",
   "metadata": {},
   "outputs": [
    {
     "data": {
      "text/plain": [
       "4"
      ]
     },
     "execution_count": 6,
     "metadata": {},
     "output_type": "execute_result"
    }
   ],
   "source": [
    "len(sorted_label.Plane.unique())"
   ]
  },
  {
   "cell_type": "code",
   "execution_count": 7,
   "id": "052432ee-cbad-4d77-836b-8efa4b74b7fb",
   "metadata": {},
   "outputs": [
    {
     "data": {
      "text/html": [
       "<div>\n",
       "<style scoped>\n",
       "    .dataframe tbody tr th:only-of-type {\n",
       "        vertical-align: middle;\n",
       "    }\n",
       "\n",
       "    .dataframe tbody tr th {\n",
       "        vertical-align: top;\n",
       "    }\n",
       "\n",
       "    .dataframe thead th {\n",
       "        text-align: right;\n",
       "    }\n",
       "</style>\n",
       "<table border=\"1\" class=\"dataframe\">\n",
       "  <thead>\n",
       "    <tr style=\"text-align: right;\">\n",
       "      <th></th>\n",
       "      <th>Image_name</th>\n",
       "    </tr>\n",
       "  </thead>\n",
       "  <tbody>\n",
       "    <tr>\n",
       "      <th>1274</th>\n",
       "      <td>Patient00168_Plane6_1_of_4</td>\n",
       "    </tr>\n",
       "    <tr>\n",
       "      <th>634</th>\n",
       "      <td>Patient00188_Plane5_1_of_1</td>\n",
       "    </tr>\n",
       "    <tr>\n",
       "      <th>1127</th>\n",
       "      <td>Patient00216_Plane6_2_of_3</td>\n",
       "    </tr>\n",
       "    <tr>\n",
       "      <th>1461</th>\n",
       "      <td>Patient00305_Plane2_1_of_2</td>\n",
       "    </tr>\n",
       "    <tr>\n",
       "      <th>290</th>\n",
       "      <td>Patient00305_Plane3_1_of_5</td>\n",
       "    </tr>\n",
       "    <tr>\n",
       "      <th>...</th>\n",
       "      <td>...</td>\n",
       "    </tr>\n",
       "    <tr>\n",
       "      <th>1316</th>\n",
       "      <td>Patient01788_Plane2_1_of_1</td>\n",
       "    </tr>\n",
       "    <tr>\n",
       "      <th>1604</th>\n",
       "      <td>Patient01789_Plane2_1_of_2</td>\n",
       "    </tr>\n",
       "    <tr>\n",
       "      <th>1595</th>\n",
       "      <td>Patient01790_Plane2_1_of_1</td>\n",
       "    </tr>\n",
       "    <tr>\n",
       "      <th>688</th>\n",
       "      <td>Patient01791_Plane5_1_of_1</td>\n",
       "    </tr>\n",
       "    <tr>\n",
       "      <th>1347</th>\n",
       "      <td>Patient01792_Plane2_1_of_1</td>\n",
       "    </tr>\n",
       "  </tbody>\n",
       "</table>\n",
       "<p>1646 rows × 1 columns</p>\n",
       "</div>"
      ],
      "text/plain": [
       "                      Image_name\n",
       "1274  Patient00168_Plane6_1_of_4\n",
       "634   Patient00188_Plane5_1_of_1\n",
       "1127  Patient00216_Plane6_2_of_3\n",
       "1461  Patient00305_Plane2_1_of_2\n",
       "290   Patient00305_Plane3_1_of_5\n",
       "...                          ...\n",
       "1316  Patient01788_Plane2_1_of_1\n",
       "1604  Patient01789_Plane2_1_of_2\n",
       "1595  Patient01790_Plane2_1_of_1\n",
       "688   Patient01791_Plane5_1_of_1\n",
       "1347  Patient01792_Plane2_1_of_1\n",
       "\n",
       "[1646 rows x 1 columns]"
      ]
     },
     "execution_count": 7,
     "metadata": {},
     "output_type": "execute_result"
    }
   ],
   "source": [
    "# using .get_dummies function to convert\n",
    "# the categorical datatype to numerical \n",
    "# and storing the returned dataFrame\n",
    "# in a new variable df1\n",
    "df1 = pd.get_dummies(sorted_label['Plane'])\n",
    " \n",
    "# using pd.concat to concatenate the dataframes \n",
    "# df and df1 and storing the concatenated \n",
    "# dataFrame in df.\n",
    "label = pd.concat([sorted_label, df1], axis=1).reindex(sorted_label.index)\n",
    " \n",
    "# removing the column 'Purchased' from df \n",
    "# as it is of no use now.\n",
    "sorted_label.drop('Plane', axis=1, inplace=True)\n",
    " \n",
    "# printing df\n",
    "sorted_label"
   ]
  },
  {
   "cell_type": "code",
   "execution_count": 8,
   "id": "10c25ff7-221a-47d7-a93b-5789354e871f",
   "metadata": {},
   "outputs": [
    {
     "data": {
      "text/plain": [
       "(1646, 6)"
      ]
     },
     "execution_count": 8,
     "metadata": {},
     "output_type": "execute_result"
    }
   ],
   "source": [
    "label.shape"
   ]
  },
  {
   "cell_type": "code",
   "execution_count": 9,
   "id": "5b94ce99-9ac7-4d08-8e29-d660974acff3",
   "metadata": {
    "scrolled": true
   },
   "outputs": [
    {
     "data": {
      "text/html": [
       "<div>\n",
       "<style scoped>\n",
       "    .dataframe tbody tr th:only-of-type {\n",
       "        vertical-align: middle;\n",
       "    }\n",
       "\n",
       "    .dataframe tbody tr th {\n",
       "        vertical-align: top;\n",
       "    }\n",
       "\n",
       "    .dataframe thead th {\n",
       "        text-align: right;\n",
       "    }\n",
       "</style>\n",
       "<table border=\"1\" class=\"dataframe\">\n",
       "  <thead>\n",
       "    <tr style=\"text-align: right;\">\n",
       "      <th></th>\n",
       "      <th>Image_name</th>\n",
       "      <th>Plane</th>\n",
       "      <th>Fetal abdomen</th>\n",
       "      <th>Fetal brain</th>\n",
       "      <th>Fetal femur</th>\n",
       "      <th>Fetal thorax</th>\n",
       "    </tr>\n",
       "  </thead>\n",
       "  <tbody>\n",
       "    <tr>\n",
       "      <th>1274</th>\n",
       "      <td>Patient00168_Plane6_1_of_4</td>\n",
       "      <td>Fetal thorax</td>\n",
       "      <td>False</td>\n",
       "      <td>False</td>\n",
       "      <td>False</td>\n",
       "      <td>True</td>\n",
       "    </tr>\n",
       "    <tr>\n",
       "      <th>634</th>\n",
       "      <td>Patient00188_Plane5_1_of_1</td>\n",
       "      <td>Fetal femur</td>\n",
       "      <td>False</td>\n",
       "      <td>False</td>\n",
       "      <td>True</td>\n",
       "      <td>False</td>\n",
       "    </tr>\n",
       "    <tr>\n",
       "      <th>1127</th>\n",
       "      <td>Patient00216_Plane6_2_of_3</td>\n",
       "      <td>Fetal thorax</td>\n",
       "      <td>False</td>\n",
       "      <td>False</td>\n",
       "      <td>False</td>\n",
       "      <td>True</td>\n",
       "    </tr>\n",
       "    <tr>\n",
       "      <th>1461</th>\n",
       "      <td>Patient00305_Plane2_1_of_2</td>\n",
       "      <td>Fetal abdomen</td>\n",
       "      <td>True</td>\n",
       "      <td>False</td>\n",
       "      <td>False</td>\n",
       "      <td>False</td>\n",
       "    </tr>\n",
       "    <tr>\n",
       "      <th>290</th>\n",
       "      <td>Patient00305_Plane3_1_of_5</td>\n",
       "      <td>Fetal brain</td>\n",
       "      <td>False</td>\n",
       "      <td>True</td>\n",
       "      <td>False</td>\n",
       "      <td>False</td>\n",
       "    </tr>\n",
       "    <tr>\n",
       "      <th>...</th>\n",
       "      <td>...</td>\n",
       "      <td>...</td>\n",
       "      <td>...</td>\n",
       "      <td>...</td>\n",
       "      <td>...</td>\n",
       "      <td>...</td>\n",
       "    </tr>\n",
       "    <tr>\n",
       "      <th>1316</th>\n",
       "      <td>Patient01788_Plane2_1_of_1</td>\n",
       "      <td>Fetal abdomen</td>\n",
       "      <td>True</td>\n",
       "      <td>False</td>\n",
       "      <td>False</td>\n",
       "      <td>False</td>\n",
       "    </tr>\n",
       "    <tr>\n",
       "      <th>1604</th>\n",
       "      <td>Patient01789_Plane2_1_of_2</td>\n",
       "      <td>Fetal abdomen</td>\n",
       "      <td>True</td>\n",
       "      <td>False</td>\n",
       "      <td>False</td>\n",
       "      <td>False</td>\n",
       "    </tr>\n",
       "    <tr>\n",
       "      <th>1595</th>\n",
       "      <td>Patient01790_Plane2_1_of_1</td>\n",
       "      <td>Fetal abdomen</td>\n",
       "      <td>True</td>\n",
       "      <td>False</td>\n",
       "      <td>False</td>\n",
       "      <td>False</td>\n",
       "    </tr>\n",
       "    <tr>\n",
       "      <th>688</th>\n",
       "      <td>Patient01791_Plane5_1_of_1</td>\n",
       "      <td>Fetal femur</td>\n",
       "      <td>False</td>\n",
       "      <td>False</td>\n",
       "      <td>True</td>\n",
       "      <td>False</td>\n",
       "    </tr>\n",
       "    <tr>\n",
       "      <th>1347</th>\n",
       "      <td>Patient01792_Plane2_1_of_1</td>\n",
       "      <td>Fetal abdomen</td>\n",
       "      <td>True</td>\n",
       "      <td>False</td>\n",
       "      <td>False</td>\n",
       "      <td>False</td>\n",
       "    </tr>\n",
       "  </tbody>\n",
       "</table>\n",
       "<p>1646 rows × 6 columns</p>\n",
       "</div>"
      ],
      "text/plain": [
       "                      Image_name          Plane  Fetal abdomen  Fetal brain  \\\n",
       "1274  Patient00168_Plane6_1_of_4   Fetal thorax          False        False   \n",
       "634   Patient00188_Plane5_1_of_1    Fetal femur          False        False   \n",
       "1127  Patient00216_Plane6_2_of_3   Fetal thorax          False        False   \n",
       "1461  Patient00305_Plane2_1_of_2  Fetal abdomen           True        False   \n",
       "290   Patient00305_Plane3_1_of_5    Fetal brain          False         True   \n",
       "...                          ...            ...            ...          ...   \n",
       "1316  Patient01788_Plane2_1_of_1  Fetal abdomen           True        False   \n",
       "1604  Patient01789_Plane2_1_of_2  Fetal abdomen           True        False   \n",
       "1595  Patient01790_Plane2_1_of_1  Fetal abdomen           True        False   \n",
       "688   Patient01791_Plane5_1_of_1    Fetal femur          False        False   \n",
       "1347  Patient01792_Plane2_1_of_1  Fetal abdomen           True        False   \n",
       "\n",
       "      Fetal femur  Fetal thorax  \n",
       "1274        False          True  \n",
       "634          True         False  \n",
       "1127        False          True  \n",
       "1461        False         False  \n",
       "290         False         False  \n",
       "...           ...           ...  \n",
       "1316        False         False  \n",
       "1604        False         False  \n",
       "1595        False         False  \n",
       "688          True         False  \n",
       "1347        False         False  \n",
       "\n",
       "[1646 rows x 6 columns]"
      ]
     },
     "execution_count": 9,
     "metadata": {},
     "output_type": "execute_result"
    }
   ],
   "source": [
    "label"
   ]
  },
  {
   "cell_type": "code",
   "execution_count": 10,
   "id": "2d753b04-9230-4d66-a549-14e5c85ce1c9",
   "metadata": {},
   "outputs": [],
   "source": [
    "labels=label.iloc[:,[2,3,4,5]]"
   ]
  },
  {
   "cell_type": "code",
   "execution_count": 11,
   "id": "7cb85124-5b07-4ebd-abe0-29d8388ed759",
   "metadata": {},
   "outputs": [
    {
     "data": {
      "text/html": [
       "<div>\n",
       "<style scoped>\n",
       "    .dataframe tbody tr th:only-of-type {\n",
       "        vertical-align: middle;\n",
       "    }\n",
       "\n",
       "    .dataframe tbody tr th {\n",
       "        vertical-align: top;\n",
       "    }\n",
       "\n",
       "    .dataframe thead th {\n",
       "        text-align: right;\n",
       "    }\n",
       "</style>\n",
       "<table border=\"1\" class=\"dataframe\">\n",
       "  <thead>\n",
       "    <tr style=\"text-align: right;\">\n",
       "      <th></th>\n",
       "      <th>Fetal abdomen</th>\n",
       "      <th>Fetal brain</th>\n",
       "      <th>Fetal femur</th>\n",
       "      <th>Fetal thorax</th>\n",
       "    </tr>\n",
       "  </thead>\n",
       "  <tbody>\n",
       "    <tr>\n",
       "      <th>1274</th>\n",
       "      <td>False</td>\n",
       "      <td>False</td>\n",
       "      <td>False</td>\n",
       "      <td>True</td>\n",
       "    </tr>\n",
       "    <tr>\n",
       "      <th>634</th>\n",
       "      <td>False</td>\n",
       "      <td>False</td>\n",
       "      <td>True</td>\n",
       "      <td>False</td>\n",
       "    </tr>\n",
       "    <tr>\n",
       "      <th>1127</th>\n",
       "      <td>False</td>\n",
       "      <td>False</td>\n",
       "      <td>False</td>\n",
       "      <td>True</td>\n",
       "    </tr>\n",
       "    <tr>\n",
       "      <th>1461</th>\n",
       "      <td>True</td>\n",
       "      <td>False</td>\n",
       "      <td>False</td>\n",
       "      <td>False</td>\n",
       "    </tr>\n",
       "    <tr>\n",
       "      <th>290</th>\n",
       "      <td>False</td>\n",
       "      <td>True</td>\n",
       "      <td>False</td>\n",
       "      <td>False</td>\n",
       "    </tr>\n",
       "    <tr>\n",
       "      <th>...</th>\n",
       "      <td>...</td>\n",
       "      <td>...</td>\n",
       "      <td>...</td>\n",
       "      <td>...</td>\n",
       "    </tr>\n",
       "    <tr>\n",
       "      <th>1316</th>\n",
       "      <td>True</td>\n",
       "      <td>False</td>\n",
       "      <td>False</td>\n",
       "      <td>False</td>\n",
       "    </tr>\n",
       "    <tr>\n",
       "      <th>1604</th>\n",
       "      <td>True</td>\n",
       "      <td>False</td>\n",
       "      <td>False</td>\n",
       "      <td>False</td>\n",
       "    </tr>\n",
       "    <tr>\n",
       "      <th>1595</th>\n",
       "      <td>True</td>\n",
       "      <td>False</td>\n",
       "      <td>False</td>\n",
       "      <td>False</td>\n",
       "    </tr>\n",
       "    <tr>\n",
       "      <th>688</th>\n",
       "      <td>False</td>\n",
       "      <td>False</td>\n",
       "      <td>True</td>\n",
       "      <td>False</td>\n",
       "    </tr>\n",
       "    <tr>\n",
       "      <th>1347</th>\n",
       "      <td>True</td>\n",
       "      <td>False</td>\n",
       "      <td>False</td>\n",
       "      <td>False</td>\n",
       "    </tr>\n",
       "  </tbody>\n",
       "</table>\n",
       "<p>1646 rows × 4 columns</p>\n",
       "</div>"
      ],
      "text/plain": [
       "      Fetal abdomen  Fetal brain  Fetal femur  Fetal thorax\n",
       "1274          False        False        False          True\n",
       "634           False        False         True         False\n",
       "1127          False        False        False          True\n",
       "1461           True        False        False         False\n",
       "290           False         True        False         False\n",
       "...             ...          ...          ...           ...\n",
       "1316           True        False        False         False\n",
       "1604           True        False        False         False\n",
       "1595           True        False        False         False\n",
       "688           False        False         True         False\n",
       "1347           True        False        False         False\n",
       "\n",
       "[1646 rows x 4 columns]"
      ]
     },
     "execution_count": 11,
     "metadata": {},
     "output_type": "execute_result"
    }
   ],
   "source": [
    "labels"
   ]
  },
  {
   "cell_type": "code",
   "execution_count": 12,
   "id": "ca701a37-79c6-430b-95a2-364f21c802cc",
   "metadata": {},
   "outputs": [
    {
     "data": {
      "text/plain": [
       "1646"
      ]
     },
     "execution_count": 12,
     "metadata": {},
     "output_type": "execute_result"
    }
   ],
   "source": [
    "len(label)"
   ]
  },
  {
   "cell_type": "code",
   "execution_count": 15,
   "id": "96f4b963-00b2-4d28-8ae1-f8942de84b7b",
   "metadata": {},
   "outputs": [],
   "source": [
    "labels=labels*1"
   ]
  },
  {
   "cell_type": "code",
   "execution_count": 16,
   "id": "4d8cbe61-9ed0-4737-adb5-3bf816cca15c",
   "metadata": {
    "scrolled": true
   },
   "outputs": [],
   "source": [
    "labels=labels.to_numpy()"
   ]
  },
  {
   "cell_type": "code",
   "execution_count": 16,
   "id": "2254f953-ab50-4f26-bb99-97e6c6b701aa",
   "metadata": {},
   "outputs": [
    {
     "data": {
      "text/plain": [
       "numpy.ndarray"
      ]
     },
     "execution_count": 16,
     "metadata": {},
     "output_type": "execute_result"
    }
   ],
   "source": [
    "type(labels)"
   ]
  },
  {
   "cell_type": "code",
   "execution_count": 17,
   "id": "2c165e87-fa51-4745-9562-53a0aa63f90b",
   "metadata": {},
   "outputs": [
    {
     "data": {
      "text/plain": [
       "array([[0, 0, 0, 1],\n",
       "       [0, 0, 1, 0],\n",
       "       [0, 0, 0, 1],\n",
       "       ...,\n",
       "       [1, 0, 0, 0],\n",
       "       [0, 0, 1, 0],\n",
       "       [1, 0, 0, 0]])"
      ]
     },
     "execution_count": 17,
     "metadata": {},
     "output_type": "execute_result"
    }
   ],
   "source": [
    "labels"
   ]
  },
  {
   "cell_type": "code",
   "execution_count": 18,
   "id": "ed03757e-6485-4e44-98d3-c8b3830f07d8",
   "metadata": {},
   "outputs": [],
   "source": [
    "images = glob.glob(\"./images/*.png\")\n"
   ]
  },
  {
   "cell_type": "code",
   "execution_count": 19,
   "id": "15258d08-09cd-4fd5-983c-f97a334055fa",
   "metadata": {},
   "outputs": [],
   "source": [
    "data_path='./images/'\n",
    "\n",
    "\n",
    "def loading_data(data_path, target_size=(256,256)):\n",
    "    img_arr_img = []\n",
    "    filelist_img = glob.glob(data_path+\"*.png\")\n",
    "    image_paths = sorted(filelist_img)\n",
    "    \n",
    "    for image_path in image_paths:\n",
    "        try:\n",
    "            image = cv2.imread(image_path)\n",
    "            image = cv2.resize(image, dsize=target_size)\n",
    "            cv2.normalize(image, image, 0, 255, cv2.NORM_MINMAX)\n",
    "            img_arr_img.append(image)\n",
    "        except (RuntimeError, TypeError,NameError) as e:\n",
    "            print(e)\n",
    "            pass\n",
    "    return np.asarray(img_arr_img), image_paths "
   ]
  },
  {
   "cell_type": "code",
   "execution_count": 20,
   "id": "aaa776e8-8fe9-44bb-9c3c-690c2a70ee22",
   "metadata": {},
   "outputs": [],
   "source": [
    "image, image_path = loading_data(data_path)"
   ]
  },
  {
   "cell_type": "code",
   "execution_count": null,
   "id": "7012ab0f-c045-467d-b8a8-91af5fc10937",
   "metadata": {},
   "outputs": [],
   "source": []
  },
  {
   "cell_type": "code",
   "execution_count": 21,
   "id": "98afb53c-2d99-40ff-8499-874d8eeb3171",
   "metadata": {},
   "outputs": [],
   "source": [
    "import matplotlib.pyplot as plt"
   ]
  },
  {
   "cell_type": "code",
   "execution_count": 24,
   "id": "c32a8ed7-8582-4c54-b908-0eba65515b53",
   "metadata": {},
   "outputs": [
    {
     "name": "stdout",
     "output_type": "stream",
     "text": [
      "[0 0 0 1]\n"
     ]
    },
    {
     "data": {
      "image/png": "[encoded data removed]",
      "text/plain": [
       "<Figure size 640x480 with 1 Axes>"
      ]
     },
     "metadata": {},
     "output_type": "display_data"
    }
   ],
   "source": [
    "plt.imshow(image[0])\n",
    "print(labels[0])\n",
    "#print(image)"
   ]
  },
  {
   "cell_type": "code",
   "execution_count": 25,
   "id": "2f572aae-a81f-4bd4-b33c-607ed613a6fc",
   "metadata": {},
   "outputs": [],
   "source": [
    "from sklearn.model_selection import train_test_split\n",
    "X_train, X_test , y_train , y_test = train_test_split(image,labels, test_size=0.2, random_state = 42)"
   ]
  },
  {
   "cell_type": "code",
   "execution_count": 26,
   "id": "96754882-f442-4b26-a9a9-dc24de9ae650",
   "metadata": {},
   "outputs": [
    {
     "data": {
      "text/plain": [
       "(1316, 256, 256, 3)"
      ]
     },
     "execution_count": 26,
     "metadata": {},
     "output_type": "execute_result"
    }
   ],
   "source": [
    "X_train.shape"
   ]
  },
  {
   "cell_type": "code",
   "execution_count": 27,
   "id": "9884355f-2fab-4594-b750-6078d4615264",
   "metadata": {},
   "outputs": [
    {
     "data": {
      "text/plain": [
       "(330, 256, 256, 3)"
      ]
     },
     "execution_count": 27,
     "metadata": {},
     "output_type": "execute_result"
    }
   ],
   "source": [
    "X_test.shape"
   ]
  },
  {
   "cell_type": "code",
   "execution_count": 28,
   "id": "1cc3016b-849a-421a-8072-a2d145d89990",
   "metadata": {},
   "outputs": [
    {
     "data": {
      "text/plain": [
       "(1316, 4)"
      ]
     },
     "execution_count": 28,
     "metadata": {},
     "output_type": "execute_result"
    }
   ],
   "source": [
    "y_train.shape"
   ]
  },
  {
   "cell_type": "code",
   "execution_count": 29,
   "id": "7168570d-e5b8-46d4-9431-fa52b35e8490",
   "metadata": {},
   "outputs": [],
   "source": [
    "y_train=y_train*1"
   ]
  },
  {
   "cell_type": "code",
   "execution_count": 30,
   "id": "07ae02a0-86c3-46b3-99f4-874e617de33c",
   "metadata": {},
   "outputs": [
    {
     "data": {
      "text/plain": [
       "(330, 4)"
      ]
     },
     "execution_count": 30,
     "metadata": {},
     "output_type": "execute_result"
    }
   ],
   "source": [
    "y_test.shape"
   ]
  },
  {
   "cell_type": "code",
   "execution_count": 31,
   "id": "d487d4e8-cfba-424b-a109-969b51848585",
   "metadata": {},
   "outputs": [],
   "source": [
    "from keras.layers import Conv2D, MaxPooling2D, Dropout, BatchNormalization, Flatten, Dense, Activation\n",
    "from keras import optimizers\n",
    "from keras.models import Sequential"
   ]
  },
  {
   "cell_type": "code",
   "execution_count": 32,
   "id": "3793845d-02b9-4bac-98be-42a1ff025f4d",
   "metadata": {},
   "outputs": [],
   "source": [
    "model = Sequential()\n",
    "\n",
    "model.add(Conv2D(32, 3, 3, padding='same', input_shape=(256,256,3), activation='relu'))\n",
    "model.add(Conv2D(32, 3, 3, padding='same', activation='relu'))\n",
    "model.add(MaxPooling2D(pool_size=(2, 2),padding='same', data_format='channels_last',strides=(1, 1)))\n",
    "\n",
    "model.add(Conv2D(64, 3, 3, padding='same', activation='relu'))\n",
    "model.add(Conv2D(64, 3, 3, padding='same', activation='relu'))\n",
    "model.add(MaxPooling2D(pool_size=(2, 2),padding='same', data_format='channels_last',strides=(1, 1)))\n",
    "\n",
    "model.add(Conv2D(128, 3, 3, padding='same', activation='relu'))\n",
    "model.add(Conv2D(128, 3, 3, padding='same', activation='relu'))\n",
    "model.add(MaxPooling2D(pool_size=(2, 2),padding='same', data_format='channels_last',strides=(1, 1)))\n",
    "\n",
    "model.add(Conv2D(256, 3, 3, padding='same', activation='relu'))\n",
    "model.add(Conv2D(256, 3, 3, padding='same', activation='relu'))\n",
    "model.add(MaxPooling2D(pool_size=(2, 2),padding='same', data_format='channels_last',strides=(1, 1)))\n",
    "\n",
    "model.add(Flatten())\n",
    "model.add(Dense(256, activation='relu'))\n",
    "model.add(Dropout(0.5))\n",
    "\n",
    "model.add(Dense(256, activation='relu'))\n",
    "model.add(Dropout(0.5))\n",
    "\n",
    "model.add(Dense(4))\n",
    "model.add(Activation('sigmoid'))"
   ]
  },
  {
   "cell_type": "code",
   "execution_count": 33,
   "id": "bbe1e6c3-50e3-4bb5-9371-cc123a5afb71",
   "metadata": {},
   "outputs": [
    {
     "name": "stderr",
     "output_type": "stream",
     "text": [
      "c:\\users\\vcvis\\appdata\\local\\programs\\python\\python38\\lib\\site-packages\\keras\\optimizers\\optimizer_v2\\rmsprop.py:135: UserWarning: The `lr` argument is deprecated, use `learning_rate` instead.\n",
      "  super(RMSprop, self).__init__(name, **kwargs)\n"
     ]
    }
   ],
   "source": [
    "model.compile(loss='binary_crossentropy',\n",
    "            optimizer=optimizers.RMSprop(lr=0.0001),\n",
    "            metrics=['accuracy'])"
   ]
  },
  {
   "cell_type": "code",
   "execution_count": 34,
   "id": "cde53d4f-3cdb-44e5-8f33-0ed1aa3e4a54",
   "metadata": {},
   "outputs": [
    {
     "name": "stdout",
     "output_type": "stream",
     "text": [
      "Epoch 1/50\n",
      "21/21 [==============================] - 12s 31ms/step - loss: 0.6128 - accuracy: 0.2599\n",
      "Epoch 2/50\n",
      "21/21 [==============================] - 1s 25ms/step - loss: 0.5744 - accuracy: 0.2994\n",
      "Epoch 3/50\n",
      "21/21 [==============================] - 1s 25ms/step - loss: 0.5481 - accuracy: 0.3830\n",
      "Epoch 4/50\n",
      "21/21 [==============================] - 0s 22ms/step - loss: 0.5263 - accuracy: 0.4309\n",
      "Epoch 5/50\n",
      "21/21 [==============================] - 0s 23ms/step - loss: 0.5002 - accuracy: 0.5175\n",
      "Epoch 6/50\n",
      "21/21 [==============================] - 1s 24ms/step - loss: 0.4751 - accuracy: 0.5578\n",
      "Epoch 7/50\n",
      "21/21 [==============================] - 0s 23ms/step - loss: 0.4513 - accuracy: 0.5897\n",
      "Epoch 8/50\n",
      "21/21 [==============================] - 1s 27ms/step - loss: 0.4113 - accuracy: 0.6459\n",
      "Epoch 9/50\n",
      "21/21 [==============================] - 0s 23ms/step - loss: 0.3974 - accuracy: 0.6527\n",
      "Epoch 10/50\n",
      "21/21 [==============================] - 1s 25ms/step - loss: 0.3698 - accuracy: 0.6786\n",
      "Epoch 11/50\n",
      "21/21 [==============================] - 1s 25ms/step - loss: 0.3490 - accuracy: 0.6960\n",
      "Epoch 12/50\n",
      "21/21 [==============================] - 0s 22ms/step - loss: 0.3269 - accuracy: 0.7371\n",
      "Epoch 13/50\n",
      "21/21 [==============================] - 1s 30ms/step - loss: 0.3241 - accuracy: 0.7386\n",
      "Epoch 14/50\n",
      "21/21 [==============================] - 0s 21ms/step - loss: 0.2993 - accuracy: 0.7546\n",
      "Epoch 15/50\n",
      "21/21 [==============================] - 1s 28ms/step - loss: 0.2726 - accuracy: 0.7903\n",
      "Epoch 16/50\n",
      "21/21 [==============================] - 1s 25ms/step - loss: 0.2776 - accuracy: 0.7895\n",
      "Epoch 17/50\n",
      "21/21 [==============================] - 1s 27ms/step - loss: 0.2556 - accuracy: 0.8131\n",
      "Epoch 18/50\n",
      "21/21 [==============================] - 1s 28ms/step - loss: 0.2387 - accuracy: 0.8245\n",
      "Epoch 19/50\n",
      "21/21 [==============================] - 1s 25ms/step - loss: 0.2337 - accuracy: 0.8359\n",
      "Epoch 20/50\n",
      "21/21 [==============================] - 1s 24ms/step - loss: 0.2240 - accuracy: 0.8328\n",
      "Epoch 21/50\n",
      "21/21 [==============================] - 1s 27ms/step - loss: 0.2036 - accuracy: 0.8526\n",
      "Epoch 22/50\n",
      "21/21 [==============================] - 1s 24ms/step - loss: 0.1952 - accuracy: 0.8587\n",
      "Epoch 23/50\n",
      "21/21 [==============================] - 1s 24ms/step - loss: 0.1822 - accuracy: 0.8693\n",
      "Epoch 24/50\n",
      "21/21 [==============================] - 1s 25ms/step - loss: 0.1754 - accuracy: 0.8777\n",
      "Epoch 25/50\n",
      "21/21 [==============================] - 1s 24ms/step - loss: 0.1592 - accuracy: 0.8967\n",
      "Epoch 26/50\n",
      "21/21 [==============================] - 1s 25ms/step - loss: 0.1543 - accuracy: 0.8982\n",
      "Epoch 27/50\n",
      "21/21 [==============================] - 0s 22ms/step - loss: 0.1558 - accuracy: 0.8959\n",
      "Epoch 28/50\n",
      "21/21 [==============================] - 1s 27ms/step - loss: 0.1395 - accuracy: 0.9141\n",
      "Epoch 29/50\n",
      "21/21 [==============================] - 1s 28ms/step - loss: 0.1501 - accuracy: 0.9012\n",
      "Epoch 30/50\n",
      "21/21 [==============================] - 0s 23ms/step - loss: 0.1387 - accuracy: 0.9111\n",
      "Epoch 31/50\n",
      "21/21 [==============================] - 1s 26ms/step - loss: 0.1084 - accuracy: 0.9324\n",
      "Epoch 32/50\n",
      "21/21 [==============================] - 1s 24ms/step - loss: 0.1045 - accuracy: 0.9392\n",
      "Epoch 33/50\n",
      "21/21 [==============================] - 0s 23ms/step - loss: 0.0951 - accuracy: 0.9422\n",
      "Epoch 34/50\n",
      "21/21 [==============================] - 1s 26ms/step - loss: 0.0998 - accuracy: 0.9339\n",
      "Epoch 35/50\n",
      "21/21 [==============================] - 1s 26ms/step - loss: 0.1132 - accuracy: 0.9210\n",
      "Epoch 36/50\n",
      "21/21 [==============================] - 1s 26ms/step - loss: 0.0767 - accuracy: 0.9590\n",
      "Epoch 37/50\n",
      "21/21 [==============================] - 1s 25ms/step - loss: 0.0910 - accuracy: 0.9422\n",
      "Epoch 38/50\n",
      "21/21 [==============================] - 1s 26ms/step - loss: 0.0720 - accuracy: 0.9574\n",
      "Epoch 39/50\n",
      "21/21 [==============================] - 0s 23ms/step - loss: 0.0645 - accuracy: 0.9681\n",
      "Epoch 40/50\n",
      "21/21 [==============================] - 0s 24ms/step - loss: 0.0912 - accuracy: 0.9445\n",
      "Epoch 41/50\n",
      "21/21 [==============================] - 1s 29ms/step - loss: 0.0559 - accuracy: 0.9681\n",
      "Epoch 42/50\n",
      "21/21 [==============================] - 1s 24ms/step - loss: 0.0578 - accuracy: 0.9620\n",
      "Epoch 43/50\n",
      "21/21 [==============================] - 1s 28ms/step - loss: 0.0600 - accuracy: 0.9574\n",
      "Epoch 44/50\n",
      "21/21 [==============================] - 1s 27ms/step - loss: 0.0434 - accuracy: 0.9719\n",
      "Epoch 45/50\n",
      "21/21 [==============================] - 0s 23ms/step - loss: 0.0497 - accuracy: 0.9696\n",
      "Epoch 46/50\n",
      "21/21 [==============================] - 1s 28ms/step - loss: 0.0564 - accuracy: 0.9628\n",
      "Epoch 47/50\n",
      "21/21 [==============================] - 1s 24ms/step - loss: 0.0467 - accuracy: 0.9734\n",
      "Epoch 48/50\n",
      "21/21 [==============================] - 1s 25ms/step - loss: 0.0342 - accuracy: 0.9787\n",
      "Epoch 49/50\n",
      "21/21 [==============================] - 0s 23ms/step - loss: 0.0502 - accuracy: 0.9704\n",
      "Epoch 50/50\n",
      "21/21 [==============================] - 0s 21ms/step - loss: 0.0198 - accuracy: 0.9894\n"
     ]
    }
   ],
   "source": [
    "history = model.fit(X_train, y_train, batch_size=64, verbose=1 ,epochs=50)"
   ]
  },
  {
   "cell_type": "code",
   "execution_count": 35,
   "id": "56bfd665-e529-41e9-9c76-7e3e87cf6943",
   "metadata": {},
   "outputs": [
    {
     "name": "stdout",
     "output_type": "stream",
     "text": [
      "11/11 [==============================] - 1s 10ms/step\n"
     ]
    }
   ],
   "source": [
    "pred=model.predict(X_test)"
   ]
  },
  {
   "cell_type": "code",
   "execution_count": 36,
   "id": "5b685c39-f6a5-4727-ab4c-62f61d281bfd",
   "metadata": {},
   "outputs": [],
   "source": [
    "pred=np.argmax(pred,axis=1)"
   ]
  },
  {
   "cell_type": "code",
   "execution_count": 37,
   "id": "dc0ef639-9900-41ac-be84-f9d7d1008fd7",
   "metadata": {},
   "outputs": [],
   "source": [
    "y_test=np.argmax(y_test,axis=1)"
   ]
  },
  {
   "cell_type": "code",
   "execution_count": 38,
   "id": "1d70faed-93d4-47b0-aaad-3d0911b8ea77",
   "metadata": {},
   "outputs": [
    {
     "data": {
      "text/plain": [
       "array([3, 1, 1, 3, 2, 1, 0, 1, 0, 1, 2, 1, 1, 1, 3, 1, 3, 1, 0, 1, 0, 0,\n",
       "       1, 3, 0, 0, 3, 3, 1, 2, 3, 3, 1, 0, 3, 1, 0, 1, 3, 2, 3, 2, 1, 1,\n",
       "       3, 0, 1, 1, 1, 1, 1, 3, 0, 3, 0, 3, 1, 1, 1, 0, 2, 3, 2, 2, 3, 1,\n",
       "       2, 1, 1, 1, 3, 3, 2, 2, 3, 3, 1, 2, 0, 2, 1, 1, 3, 2, 3, 1, 0, 1,\n",
       "       2, 1, 0, 1, 2, 3, 1, 3, 0, 1, 1, 0, 3, 2, 3, 0, 3, 1, 3, 1, 3, 1,\n",
       "       1, 2, 0, 1, 1, 3, 3, 2, 2, 3, 0, 2, 1, 3, 2, 0, 3, 3, 0, 1, 1, 1,\n",
       "       1, 2, 3, 0, 3, 3, 2, 1, 2, 1, 3, 3, 3, 2, 0, 0, 3, 1, 0, 1, 1, 0,\n",
       "       3, 1, 3, 3, 0, 3, 0, 3, 2, 1, 3, 2, 2, 2, 3, 3, 3, 1, 3, 1, 1, 3,\n",
       "       0, 0, 1, 3, 0, 1, 3, 0, 0, 1, 2, 1, 3, 3, 3, 3, 1, 0, 3, 3, 2, 1,\n",
       "       0, 0, 1, 0, 2, 1, 1, 1, 3, 2, 1, 3, 1, 3, 0, 0, 3, 1, 3, 1, 1, 1,\n",
       "       3, 1, 3, 3, 1, 1, 1, 1, 1, 1, 3, 3, 2, 2, 2, 2, 3, 3, 2, 3, 0, 2,\n",
       "       0, 0, 2, 0, 0, 0, 3, 0, 1, 3, 3, 0, 1, 1, 1, 3, 2, 1, 0, 3, 3, 1,\n",
       "       3, 1, 2, 1, 0, 1, 3, 0, 0, 1, 1, 2, 1, 3, 3, 1, 3, 2, 1, 1, 1, 1,\n",
       "       1, 1, 0, 2, 1, 3, 3, 3, 1, 1, 3, 3, 2, 0, 0, 3, 1, 1, 0, 1, 3, 2,\n",
       "       3, 1, 0, 1, 3, 0, 3, 0, 0, 0, 0, 2, 1, 3, 2, 2, 0, 3, 1, 0, 1, 1],\n",
       "      dtype=int64)"
      ]
     },
     "execution_count": 38,
     "metadata": {},
     "output_type": "execute_result"
    }
   ],
   "source": [
    "y_test"
   ]
  },
  {
   "cell_type": "code",
   "execution_count": 39,
   "id": "38c859eb-15f6-4bda-ac80-e234d377640f",
   "metadata": {},
   "outputs": [
    {
     "data": {
      "text/plain": [
       "array([3, 1, 2, 3, 2, 1, 2, 1, 0, 1, 2, 1, 1, 1, 3, 1, 2, 1, 0, 1, 0, 0,\n",
       "       1, 3, 0, 0, 3, 3, 1, 2, 3, 3, 1, 0, 1, 1, 1, 2, 0, 2, 3, 2, 1, 1,\n",
       "       3, 0, 2, 1, 1, 1, 1, 3, 0, 3, 3, 2, 1, 1, 1, 1, 2, 3, 2, 2, 3, 1,\n",
       "       2, 1, 2, 1, 3, 2, 2, 2, 3, 3, 1, 2, 0, 2, 1, 1, 0, 2, 3, 2, 3, 1,\n",
       "       2, 1, 0, 3, 2, 3, 1, 0, 1, 1, 1, 0, 3, 2, 3, 1, 3, 1, 3, 1, 3, 1,\n",
       "       1, 2, 2, 1, 1, 3, 3, 0, 2, 3, 1, 2, 1, 0, 2, 1, 3, 3, 2, 1, 2, 1,\n",
       "       0, 2, 3, 0, 3, 3, 2, 1, 2, 2, 3, 3, 3, 0, 0, 0, 3, 1, 0, 1, 1, 3,\n",
       "       3, 2, 3, 3, 0, 0, 0, 3, 2, 1, 3, 2, 2, 2, 3, 3, 3, 1, 3, 2, 1, 3,\n",
       "       2, 3, 1, 3, 0, 1, 3, 2, 0, 2, 2, 1, 3, 3, 3, 3, 1, 0, 3, 3, 2, 1,\n",
       "       1, 3, 2, 2, 2, 1, 1, 1, 3, 2, 1, 3, 1, 3, 0, 3, 3, 1, 3, 1, 1, 1,\n",
       "       0, 1, 3, 3, 1, 1, 1, 1, 1, 1, 3, 3, 2, 2, 2, 2, 3, 3, 2, 3, 0, 2,\n",
       "       0, 0, 0, 0, 0, 0, 3, 2, 1, 3, 3, 0, 2, 1, 2, 3, 2, 1, 0, 3, 0, 1,\n",
       "       3, 1, 2, 1, 0, 1, 3, 0, 0, 1, 1, 3, 1, 3, 0, 1, 3, 2, 1, 1, 1, 1,\n",
       "       1, 1, 0, 1, 1, 3, 3, 3, 1, 1, 3, 3, 1, 0, 0, 3, 1, 1, 1, 1, 3, 2,\n",
       "       3, 2, 2, 1, 3, 0, 3, 1, 0, 3, 0, 2, 1, 3, 2, 2, 2, 3, 1, 0, 1, 1],\n",
       "      dtype=int64)"
      ]
     },
     "execution_count": 39,
     "metadata": {},
     "output_type": "execute_result"
    }
   ],
   "source": [
    "pred"
   ]
  },
  {
   "cell_type": "code",
   "execution_count": null,
   "id": "bc537597-c74a-4e33-bca7-9327634c1296",
   "metadata": {},
   "outputs": [],
   "source": []
  },
  {
   "cell_type": "code",
   "execution_count": 40,
   "id": "dd8efb94-ba7a-42a3-8d89-ef501200f257",
   "metadata": {},
   "outputs": [],
   "source": [
    "from sklearn.metrics import confusion_matrix"
   ]
  },
  {
   "cell_type": "code",
   "execution_count": 41,
   "id": "49b4e1bb-df77-4201-a517-4bc53381af93",
   "metadata": {},
   "outputs": [],
   "source": [
    "cm=confusion_matrix(y_test,pred)"
   ]
  },
  {
   "cell_type": "code",
   "execution_count": 42,
   "id": "6f5d27ac-afb9-4927-a958-f8b94c5201f5",
   "metadata": {},
   "outputs": [
    {
     "data": {
      "text/plain": [
       "array([[40,  9,  9,  7],\n",
       "       [ 1, 99, 14,  1],\n",
       "       [ 3,  2, 45,  1],\n",
       "       [ 8,  1,  3, 87]], dtype=int64)"
      ]
     },
     "execution_count": 42,
     "metadata": {},
     "output_type": "execute_result"
    }
   ],
   "source": [
    "cm"
   ]
  },
  {
   "cell_type": "code",
   "execution_count": 43,
   "id": "a5fe4b60-650d-4775-9a1f-f92bbc982bf9",
   "metadata": {},
   "outputs": [],
   "source": [
    "from sklearn.metrics import accuracy_score"
   ]
  },
  {
   "cell_type": "code",
   "execution_count": 44,
   "id": "3d757276-abe4-4b40-a2d9-1bc0225a7d4e",
   "metadata": {},
   "outputs": [
    {
     "data": {
      "text/plain": [
       "0.8212121212121212"
      ]
     },
     "execution_count": 44,
     "metadata": {},
     "output_type": "execute_result"
    }
   ],
   "source": [
    "accuracy_score(y_test,pred)"
   ]
  },
  {
   "cell_type": "code",
   "execution_count": 45,
   "id": "8417727c-590e-43a2-be17-536bc1b7f368",
   "metadata": {},
   "outputs": [],
   "source": [
    "test_path='./External Test images/'"
   ]
  },
  {
   "cell_type": "code",
   "execution_count": 46,
   "id": "24f71e6a-2318-4883-b1c9-18929acaee20",
   "metadata": {},
   "outputs": [],
   "source": [
    "images,image_path=loading_data(test_path)"
   ]
  },
  {
   "cell_type": "code",
   "execution_count": 47,
   "id": "eae74106-f3f3-4ac2-a033-0e1b74e89963",
   "metadata": {},
   "outputs": [
    {
     "data": {
      "text/plain": [
       "<matplotlib.image.AxesImage at 0x1fcf64a51f0>"
      ]
     },
     "execution_count": 47,
     "metadata": {},
     "output_type": "execute_result"
    },
    {
     "data": {
      "image/png": "[encoded data removed]",
      "text/plain": [
       "<Figure size 640x480 with 1 Axes>"
      ]
     },
     "metadata": {},
     "output_type": "display_data"
    }
   ],
   "source": [
    "plt.imshow(images[0])"
   ]
  },
  {
   "cell_type": "code",
   "execution_count": 48,
   "id": "08a02c20-d4ca-46f2-aa04-9e0ddb3608c8",
   "metadata": {},
   "outputs": [
    {
     "data": {
      "text/plain": [
       "numpy.ndarray"
      ]
     },
     "execution_count": 48,
     "metadata": {},
     "output_type": "execute_result"
    }
   ],
   "source": [
    "type(images)"
   ]
  },
  {
   "cell_type": "code",
   "execution_count": null,
   "id": "e616f1bb-5d7a-46ce-8198-565fd929a26b",
   "metadata": {},
   "outputs": [],
   "source": []
  },
  {
   "cell_type": "code",
   "execution_count": 49,
   "id": "b74952d1-5d83-4e97-832d-f8b6f45f1a57",
   "metadata": {},
   "outputs": [
    {
     "name": "stdout",
     "output_type": "stream",
     "text": [
      "2/2 [==============================] - 1s 470ms/step\n"
     ]
    }
   ],
   "source": [
    "predition_test=model.predict(images)"
   ]
  },
  {
   "cell_type": "code",
   "execution_count": 48,
   "id": "70504f93-690d-436a-b551-cdb1ed87aa18",
   "metadata": {},
   "outputs": [],
   "source": [
    "predss=np.argmax(predition_test,axis=1)"
   ]
  },
  {
   "cell_type": "code",
   "execution_count": 49,
   "id": "e3083490-1a2b-4579-8149-1f8ad9b48c2c",
   "metadata": {},
   "outputs": [
    {
     "data": {
      "text/plain": [
       "array([3, 1, 1, 3, 2, 0, 3, 1, 2, 1, 1, 2, 3, 1, 1, 1, 0, 2, 1, 2, 2, 1,\n",
       "       1, 0, 2, 1, 3, 1, 1, 0, 1, 3, 1, 3, 1, 1, 2, 2, 1, 3])"
      ]
     },
     "execution_count": 49,
     "metadata": {},
     "output_type": "execute_result"
    }
   ],
   "source": [
    "predss"
   ]
  },
  {
   "cell_type": "code",
   "execution_count": null,
   "id": "81aa44f9-e871-44e5-8f4e-46fc78e991f0",
   "metadata": {},
   "outputs": [],
   "source": []
  },
  {
   "cell_type": "code",
   "execution_count": null,
   "id": "e84e7df2-48cd-4045-8cce-9434abf77f7d",
   "metadata": {},
   "outputs": [],
   "source": [
    "\n",
    "   "
   ]
  },
  {
   "cell_type": "code",
   "execution_count": null,
   "id": "9c81256c-0317-4a8f-8fd2-28e32c5c3276",
   "metadata": {},
   "outputs": [],
   "source": []
  },
  {
   "cell_type": "code",
   "execution_count": null,
   "id": "558bcb4e-a1aa-4725-9211-cf85297e9a70",
   "metadata": {},
   "outputs": [],
   "source": []
  },
  {
   "cell_type": "code",
   "execution_count": null,
   "id": "26babf5f-7969-4abc-be48-2ebf0873aec4",
   "metadata": {},
   "outputs": [],
   "source": []
  },
  {
   "cell_type": "code",
   "execution_count": null,
   "id": "7313a3e1-01e8-47e0-9f1f-ebb07ec7f0a7",
   "metadata": {},
   "outputs": [],
   "source": []
  },
  {
   "cell_type": "code",
   "execution_count": null,
   "id": "3aab3cbf-f655-474e-81e0-0329b70eac15",
   "metadata": {},
   "outputs": [],
   "source": []
  }
 ],
 "metadata": {
  "kernelspec": {
   "display_name": "Python 3 (ipykernel)",
   "language": "python",
   "name": "python3"
  },
  "language_info": {
   "codemirror_mode": {
    "name": "ipython",
    "version": 3
   },
   "file_extension": ".py",
   "mimetype": "text/x-python",
   "name": "python",
   "nbconvert_exporter": "python",
   "pygments_lexer": "ipython3",
   "version": "3.8.0"
  }
 },
 "nbformat": 4,
 "nbformat_minor": 5
}
